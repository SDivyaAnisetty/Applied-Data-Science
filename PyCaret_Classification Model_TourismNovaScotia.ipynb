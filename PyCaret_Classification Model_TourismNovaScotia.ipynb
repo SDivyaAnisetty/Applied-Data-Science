{
 "cells": [
  {
   "cell_type": "markdown",
   "id": "06970811-b2a6-40c7-af2b-5448eb43162c",
   "metadata": {},
   "source": [
    "# PyCaret Classification Model - Supervised Learning\n",
    "\n",
    "#### Data: Tourism Nova Scotia\n",
    "#### Time: 2006 to 2024\n",
    "#### Data Source: https://data.novascotia.ca/Business-and-Industry/Tourism-Nova-Scotia-Visitation/n783-4gmh/about_data \n"
   ]
  },
  {
   "cell_type": "code",
   "execution_count": 1,
   "id": "4cdacf06-2dc7-4d18-b19c-9086f045ddb8",
   "metadata": {},
   "outputs": [],
   "source": [
    "# import the required libraries\n",
    "\n",
    "import numpy as np\n",
    "import pandas as pd\n",
    "import seaborn as sns\n",
    "\n",
    "from pycaret.classification import *"
   ]
  },
  {
   "cell_type": "code",
   "execution_count": 2,
   "id": "5fdfe8f9-92a4-41c7-8809-d809bc553952",
   "metadata": {},
   "outputs": [
    {
     "data": {
      "text/html": [
       "<div>\n",
       "<style scoped>\n",
       "    .dataframe tbody tr th:only-of-type {\n",
       "        vertical-align: middle;\n",
       "    }\n",
       "\n",
       "    .dataframe tbody tr th {\n",
       "        vertical-align: top;\n",
       "    }\n",
       "\n",
       "    .dataframe thead th {\n",
       "        text-align: right;\n",
       "    }\n",
       "</style>\n",
       "<table border=\"1\" class=\"dataframe\">\n",
       "  <thead>\n",
       "    <tr style=\"text-align: right;\">\n",
       "      <th></th>\n",
       "      <th>Mode of entry</th>\n",
       "      <th>Month/Year</th>\n",
       "      <th>Visitor Origin</th>\n",
       "      <th>Country</th>\n",
       "      <th>Number of Visitors (Rounded to nearest hundred)</th>\n",
       "    </tr>\n",
       "  </thead>\n",
       "  <tbody>\n",
       "    <tr>\n",
       "      <th>0</th>\n",
       "      <td>Air</td>\n",
       "      <td>January 2006</td>\n",
       "      <td>Atlantic Canada</td>\n",
       "      <td>Canada</td>\n",
       "      <td>5400.0</td>\n",
       "    </tr>\n",
       "    <tr>\n",
       "      <th>1</th>\n",
       "      <td>Air</td>\n",
       "      <td>January 2006</td>\n",
       "      <td>Quebec</td>\n",
       "      <td>Canada</td>\n",
       "      <td>3400.0</td>\n",
       "    </tr>\n",
       "    <tr>\n",
       "      <th>2</th>\n",
       "      <td>Air</td>\n",
       "      <td>January 2006</td>\n",
       "      <td>Ontario</td>\n",
       "      <td>Canada</td>\n",
       "      <td>16600.0</td>\n",
       "    </tr>\n",
       "    <tr>\n",
       "      <th>3</th>\n",
       "      <td>Air</td>\n",
       "      <td>January 2006</td>\n",
       "      <td>Western Canada</td>\n",
       "      <td>Canada</td>\n",
       "      <td>7000.0</td>\n",
       "    </tr>\n",
       "    <tr>\n",
       "      <th>4</th>\n",
       "      <td>Air</td>\n",
       "      <td>January 2006</td>\n",
       "      <td>New England (inc Maine)</td>\n",
       "      <td>United States</td>\n",
       "      <td>800.0</td>\n",
       "    </tr>\n",
       "  </tbody>\n",
       "</table>\n",
       "</div>"
      ],
      "text/plain": [
       "  Mode of entry    Month/Year           Visitor Origin        Country  \\\n",
       "0           Air  January 2006          Atlantic Canada         Canada   \n",
       "1           Air  January 2006                   Quebec         Canada   \n",
       "2           Air  January 2006                  Ontario         Canada   \n",
       "3           Air  January 2006           Western Canada         Canada   \n",
       "4           Air  January 2006  New England (inc Maine)  United States   \n",
       "\n",
       "   Number of Visitors (Rounded to nearest hundred)  \n",
       "0                                           5400.0  \n",
       "1                                           3400.0  \n",
       "2                                          16600.0  \n",
       "3                                           7000.0  \n",
       "4                                            800.0  "
      ]
     },
     "execution_count": 2,
     "metadata": {},
     "output_type": "execute_result"
    }
   ],
   "source": [
    "data = pd.read_csv('./Tourism_Nova_Scotia_Visitation_20250202_UPDATED.csv')\n",
    "data.head()"
   ]
  },
  {
   "cell_type": "markdown",
   "id": "f52ec906-83d1-4e27-b579-2932f5021ec2",
   "metadata": {},
   "source": [
    "### Data Dictionary\n",
    "\n",
    " - **Mode of entry** - Visitor entered Nova Scotia by what mode [Air, Road].\n",
    " - **Month/Year** - The date of visitor entry.\n",
    " - **Visitor Origin** - Which City or Province are the visitor originally from.\n",
    " - **Country** - Which country are the Visitor originally from.\n",
    " - **Number of Visitors (Rounded to nearest hundred)** - Count of visitors"
   ]
  },
  {
   "cell_type": "markdown",
   "id": "26a0fc23-48c7-4f29-9c4b-82a189470e7d",
   "metadata": {},
   "source": [
    "### Exploratory Data Analysis [EDA]"
   ]
  },
  {
   "cell_type": "code",
   "execution_count": 3,
   "id": "da1a2810-7beb-42b1-8ecb-59983f114d7c",
   "metadata": {},
   "outputs": [
    {
     "name": "stdout",
     "output_type": "stream",
     "text": [
      "<class 'pandas.core.frame.DataFrame'>\n",
      "RangeIndex: 7182 entries, 0 to 7181\n",
      "Data columns (total 5 columns):\n",
      " #   Column                                           Non-Null Count  Dtype  \n",
      "---  ------                                           --------------  -----  \n",
      " 0   Mode of entry                                    7182 non-null   object \n",
      " 1   Month/Year                                       7182 non-null   object \n",
      " 2   Visitor Origin                                   7182 non-null   object \n",
      " 3   Country                                          7182 non-null   object \n",
      " 4   Number of Visitors (Rounded to nearest hundred)  6282 non-null   float64\n",
      "dtypes: float64(1), object(4)\n",
      "memory usage: 280.7+ KB\n"
     ]
    }
   ],
   "source": [
    "data.info()"
   ]
  },
  {
   "cell_type": "code",
   "execution_count": 4,
   "id": "c528635d-cfbf-4aef-8195-d90bce33498c",
   "metadata": {},
   "outputs": [
    {
     "data": {
      "text/plain": [
       "Mode of entry                                        0\n",
       "Month/Year                                           0\n",
       "Visitor Origin                                       0\n",
       "Country                                              0\n",
       "Number of Visitors (Rounded to nearest hundred)    900\n",
       "dtype: int64"
      ]
     },
     "execution_count": 4,
     "metadata": {},
     "output_type": "execute_result"
    }
   ],
   "source": [
    "# Checking for nulls in the data \n",
    "\n",
    "data.isna().sum()"
   ]
  },
  {
   "cell_type": "code",
   "execution_count": 5,
   "id": "286fd570-868e-4d88-9d22-b0c03e98e77f",
   "metadata": {},
   "outputs": [],
   "source": [
    "# drop the rows will null or missing records\n",
    "\n",
    "data = data.dropna(axis= 0, how= 'any')"
   ]
  },
  {
   "cell_type": "code",
   "execution_count": 6,
   "id": "6c9a1ee4-384d-40e5-a9a3-3ed6f0732c4e",
   "metadata": {},
   "outputs": [
    {
     "data": {
      "text/plain": [
       "Mode of entry                                      0\n",
       "Month/Year                                         0\n",
       "Visitor Origin                                     0\n",
       "Country                                            0\n",
       "Number of Visitors (Rounded to nearest hundred)    0\n",
       "dtype: int64"
      ]
     },
     "execution_count": 6,
     "metadata": {},
     "output_type": "execute_result"
    }
   ],
   "source": [
    "# red-check for null or missing records\n",
    "\n",
    "data.isna().sum()"
   ]
  },
  {
   "cell_type": "code",
   "execution_count": 7,
   "id": "27f7c494-d472-4f4b-bd8c-e98563323486",
   "metadata": {},
   "outputs": [
    {
     "data": {
      "text/plain": [
       "Mode of entry\n",
       "Air     3413\n",
       "Road    2869\n",
       "Name: count, dtype: int64"
      ]
     },
     "execution_count": 7,
     "metadata": {},
     "output_type": "execute_result"
    }
   ],
   "source": [
    "# for this instance, Let's look at 'Mode of entry column \n",
    "\n",
    "data['Mode of entry'].value_counts()"
   ]
  },
  {
   "cell_type": "markdown",
   "id": "ae8ceba5-76df-435e-9836-74084cd3ba43",
   "metadata": {},
   "source": [
    "### Setup"
   ]
  },
  {
   "cell_type": "code",
   "execution_count": 8,
   "id": "1b5f775d-6163-40a6-92b8-560521285d12",
   "metadata": {},
   "outputs": [
    {
     "data": {
      "text/html": [
       "<style type=\"text/css\">\n",
       "#T_a852a_row10_col1, #T_a852a_row16_col1 {\n",
       "  background-color: lightgreen;\n",
       "}\n",
       "</style>\n",
       "<table id=\"T_a852a\">\n",
       "  <thead>\n",
       "    <tr>\n",
       "      <th class=\"blank level0\" >&nbsp;</th>\n",
       "      <th id=\"T_a852a_level0_col0\" class=\"col_heading level0 col0\" >Description</th>\n",
       "      <th id=\"T_a852a_level0_col1\" class=\"col_heading level0 col1\" >Value</th>\n",
       "    </tr>\n",
       "  </thead>\n",
       "  <tbody>\n",
       "    <tr>\n",
       "      <th id=\"T_a852a_level0_row0\" class=\"row_heading level0 row0\" >0</th>\n",
       "      <td id=\"T_a852a_row0_col0\" class=\"data row0 col0\" >Session id</td>\n",
       "      <td id=\"T_a852a_row0_col1\" class=\"data row0 col1\" >42</td>\n",
       "    </tr>\n",
       "    <tr>\n",
       "      <th id=\"T_a852a_level0_row1\" class=\"row_heading level0 row1\" >1</th>\n",
       "      <td id=\"T_a852a_row1_col0\" class=\"data row1 col0\" >Target</td>\n",
       "      <td id=\"T_a852a_row1_col1\" class=\"data row1 col1\" >Mode of entry</td>\n",
       "    </tr>\n",
       "    <tr>\n",
       "      <th id=\"T_a852a_level0_row2\" class=\"row_heading level0 row2\" >2</th>\n",
       "      <td id=\"T_a852a_row2_col0\" class=\"data row2 col0\" >Target type</td>\n",
       "      <td id=\"T_a852a_row2_col1\" class=\"data row2 col1\" >Binary</td>\n",
       "    </tr>\n",
       "    <tr>\n",
       "      <th id=\"T_a852a_level0_row3\" class=\"row_heading level0 row3\" >3</th>\n",
       "      <td id=\"T_a852a_row3_col0\" class=\"data row3 col0\" >Target mapping</td>\n",
       "      <td id=\"T_a852a_row3_col1\" class=\"data row3 col1\" >Air: 0, Road: 1</td>\n",
       "    </tr>\n",
       "    <tr>\n",
       "      <th id=\"T_a852a_level0_row4\" class=\"row_heading level0 row4\" >4</th>\n",
       "      <td id=\"T_a852a_row4_col0\" class=\"data row4 col0\" >Original data shape</td>\n",
       "      <td id=\"T_a852a_row4_col1\" class=\"data row4 col1\" >(6282, 5)</td>\n",
       "    </tr>\n",
       "    <tr>\n",
       "      <th id=\"T_a852a_level0_row5\" class=\"row_heading level0 row5\" >5</th>\n",
       "      <td id=\"T_a852a_row5_col0\" class=\"data row5 col0\" >Transformed data shape</td>\n",
       "      <td id=\"T_a852a_row5_col1\" class=\"data row5 col1\" >(6663, 40)</td>\n",
       "    </tr>\n",
       "    <tr>\n",
       "      <th id=\"T_a852a_level0_row6\" class=\"row_heading level0 row6\" >6</th>\n",
       "      <td id=\"T_a852a_row6_col0\" class=\"data row6 col0\" >Transformed train set shape</td>\n",
       "      <td id=\"T_a852a_row6_col1\" class=\"data row6 col1\" >(4778, 40)</td>\n",
       "    </tr>\n",
       "    <tr>\n",
       "      <th id=\"T_a852a_level0_row7\" class=\"row_heading level0 row7\" >7</th>\n",
       "      <td id=\"T_a852a_row7_col0\" class=\"data row7 col0\" >Transformed test set shape</td>\n",
       "      <td id=\"T_a852a_row7_col1\" class=\"data row7 col1\" >(1885, 40)</td>\n",
       "    </tr>\n",
       "    <tr>\n",
       "      <th id=\"T_a852a_level0_row8\" class=\"row_heading level0 row8\" >8</th>\n",
       "      <td id=\"T_a852a_row8_col0\" class=\"data row8 col0\" >Numeric features</td>\n",
       "      <td id=\"T_a852a_row8_col1\" class=\"data row8 col1\" >1</td>\n",
       "    </tr>\n",
       "    <tr>\n",
       "      <th id=\"T_a852a_level0_row9\" class=\"row_heading level0 row9\" >9</th>\n",
       "      <td id=\"T_a852a_row9_col0\" class=\"data row9 col0\" >Categorical features</td>\n",
       "      <td id=\"T_a852a_row9_col1\" class=\"data row9 col1\" >3</td>\n",
       "    </tr>\n",
       "    <tr>\n",
       "      <th id=\"T_a852a_level0_row10\" class=\"row_heading level0 row10\" >10</th>\n",
       "      <td id=\"T_a852a_row10_col0\" class=\"data row10 col0\" >Preprocess</td>\n",
       "      <td id=\"T_a852a_row10_col1\" class=\"data row10 col1\" >True</td>\n",
       "    </tr>\n",
       "    <tr>\n",
       "      <th id=\"T_a852a_level0_row11\" class=\"row_heading level0 row11\" >11</th>\n",
       "      <td id=\"T_a852a_row11_col0\" class=\"data row11 col0\" >Imputation type</td>\n",
       "      <td id=\"T_a852a_row11_col1\" class=\"data row11 col1\" >simple</td>\n",
       "    </tr>\n",
       "    <tr>\n",
       "      <th id=\"T_a852a_level0_row12\" class=\"row_heading level0 row12\" >12</th>\n",
       "      <td id=\"T_a852a_row12_col0\" class=\"data row12 col0\" >Numeric imputation</td>\n",
       "      <td id=\"T_a852a_row12_col1\" class=\"data row12 col1\" >mean</td>\n",
       "    </tr>\n",
       "    <tr>\n",
       "      <th id=\"T_a852a_level0_row13\" class=\"row_heading level0 row13\" >13</th>\n",
       "      <td id=\"T_a852a_row13_col0\" class=\"data row13 col0\" >Categorical imputation</td>\n",
       "      <td id=\"T_a852a_row13_col1\" class=\"data row13 col1\" >mode</td>\n",
       "    </tr>\n",
       "    <tr>\n",
       "      <th id=\"T_a852a_level0_row14\" class=\"row_heading level0 row14\" >14</th>\n",
       "      <td id=\"T_a852a_row14_col0\" class=\"data row14 col0\" >Maximum one-hot encoding</td>\n",
       "      <td id=\"T_a852a_row14_col1\" class=\"data row14 col1\" >25</td>\n",
       "    </tr>\n",
       "    <tr>\n",
       "      <th id=\"T_a852a_level0_row15\" class=\"row_heading level0 row15\" >15</th>\n",
       "      <td id=\"T_a852a_row15_col0\" class=\"data row15 col0\" >Encoding method</td>\n",
       "      <td id=\"T_a852a_row15_col1\" class=\"data row15 col1\" >None</td>\n",
       "    </tr>\n",
       "    <tr>\n",
       "      <th id=\"T_a852a_level0_row16\" class=\"row_heading level0 row16\" >16</th>\n",
       "      <td id=\"T_a852a_row16_col0\" class=\"data row16 col0\" >Fix imbalance</td>\n",
       "      <td id=\"T_a852a_row16_col1\" class=\"data row16 col1\" >True</td>\n",
       "    </tr>\n",
       "    <tr>\n",
       "      <th id=\"T_a852a_level0_row17\" class=\"row_heading level0 row17\" >17</th>\n",
       "      <td id=\"T_a852a_row17_col0\" class=\"data row17 col0\" >Fix imbalance method</td>\n",
       "      <td id=\"T_a852a_row17_col1\" class=\"data row17 col1\" >SMOTE</td>\n",
       "    </tr>\n",
       "    <tr>\n",
       "      <th id=\"T_a852a_level0_row18\" class=\"row_heading level0 row18\" >18</th>\n",
       "      <td id=\"T_a852a_row18_col0\" class=\"data row18 col0\" >Fold Generator</td>\n",
       "      <td id=\"T_a852a_row18_col1\" class=\"data row18 col1\" >StratifiedKFold</td>\n",
       "    </tr>\n",
       "    <tr>\n",
       "      <th id=\"T_a852a_level0_row19\" class=\"row_heading level0 row19\" >19</th>\n",
       "      <td id=\"T_a852a_row19_col0\" class=\"data row19 col0\" >Fold Number</td>\n",
       "      <td id=\"T_a852a_row19_col1\" class=\"data row19 col1\" >10</td>\n",
       "    </tr>\n",
       "    <tr>\n",
       "      <th id=\"T_a852a_level0_row20\" class=\"row_heading level0 row20\" >20</th>\n",
       "      <td id=\"T_a852a_row20_col0\" class=\"data row20 col0\" >CPU Jobs</td>\n",
       "      <td id=\"T_a852a_row20_col1\" class=\"data row20 col1\" >-1</td>\n",
       "    </tr>\n",
       "    <tr>\n",
       "      <th id=\"T_a852a_level0_row21\" class=\"row_heading level0 row21\" >21</th>\n",
       "      <td id=\"T_a852a_row21_col0\" class=\"data row21 col0\" >Use GPU</td>\n",
       "      <td id=\"T_a852a_row21_col1\" class=\"data row21 col1\" >False</td>\n",
       "    </tr>\n",
       "    <tr>\n",
       "      <th id=\"T_a852a_level0_row22\" class=\"row_heading level0 row22\" >22</th>\n",
       "      <td id=\"T_a852a_row22_col0\" class=\"data row22 col0\" >Log Experiment</td>\n",
       "      <td id=\"T_a852a_row22_col1\" class=\"data row22 col1\" >False</td>\n",
       "    </tr>\n",
       "    <tr>\n",
       "      <th id=\"T_a852a_level0_row23\" class=\"row_heading level0 row23\" >23</th>\n",
       "      <td id=\"T_a852a_row23_col0\" class=\"data row23 col0\" >Experiment Name</td>\n",
       "      <td id=\"T_a852a_row23_col1\" class=\"data row23 col1\" >clf-default-name</td>\n",
       "    </tr>\n",
       "    <tr>\n",
       "      <th id=\"T_a852a_level0_row24\" class=\"row_heading level0 row24\" >24</th>\n",
       "      <td id=\"T_a852a_row24_col0\" class=\"data row24 col0\" >USI</td>\n",
       "      <td id=\"T_a852a_row24_col1\" class=\"data row24 col1\" >a24c</td>\n",
       "    </tr>\n",
       "  </tbody>\n",
       "</table>\n"
      ],
      "text/plain": [
       "<pandas.io.formats.style.Styler at 0x297c13d2a10>"
      ]
     },
     "metadata": {},
     "output_type": "display_data"
    },
    {
     "data": {
      "text/plain": [
       "<pycaret.classification.oop.ClassificationExperiment at 0x297c55ba3d0>"
      ]
     },
     "execution_count": 8,
     "metadata": {},
     "output_type": "execute_result"
    }
   ],
   "source": [
    "# initialize the training environment, required parameters -> data, target \n",
    "\n",
    "s = ClassificationExperiment() \n",
    "s.setup(data= data, target= 'Mode of entry', session_id = 42, fix_imbalance=True)  #fix_imbalance=True, False by default"
   ]
  },
  {
   "cell_type": "code",
   "execution_count": 9,
   "id": "f81746be-700b-4f80-9b75-10188a6d7077",
   "metadata": {},
   "outputs": [
    {
     "data": {
      "text/plain": [
       "Mode of entry\n",
       "0    3413\n",
       "1    3250\n",
       "Name: count, dtype: int64"
      ]
     },
     "execution_count": 9,
     "metadata": {},
     "output_type": "execute_result"
    }
   ],
   "source": [
    "# Target mapping\tAir: 0, Road: 1\n",
    "\n",
    "s.y_transformed.value_counts()"
   ]
  },
  {
   "cell_type": "markdown",
   "id": "766d3e19-8b20-47eb-9ebe-868337d56e89",
   "metadata": {},
   "source": [
    "### Compare Models"
   ]
  },
  {
   "cell_type": "code",
   "execution_count": 10,
   "id": "847346fb-cb16-485b-82dd-f1d535f10eeb",
   "metadata": {},
   "outputs": [
    {
     "data": {
      "text/html": [],
      "text/plain": [
       "<IPython.core.display.HTML object>"
      ]
     },
     "metadata": {},
     "output_type": "display_data"
    },
    {
     "data": {
      "text/html": [
       "<style type=\"text/css\">\n",
       "#T_a2957 th {\n",
       "  text-align: left;\n",
       "}\n",
       "#T_a2957_row0_col0, #T_a2957_row1_col0, #T_a2957_row1_col1, #T_a2957_row1_col2, #T_a2957_row1_col3, #T_a2957_row1_col4, #T_a2957_row1_col5, #T_a2957_row1_col6, #T_a2957_row1_col7, #T_a2957_row2_col0, #T_a2957_row2_col1, #T_a2957_row2_col2, #T_a2957_row2_col3, #T_a2957_row2_col4, #T_a2957_row2_col5, #T_a2957_row2_col6, #T_a2957_row2_col7, #T_a2957_row3_col0, #T_a2957_row3_col1, #T_a2957_row3_col2, #T_a2957_row3_col3, #T_a2957_row3_col4, #T_a2957_row3_col5, #T_a2957_row3_col6, #T_a2957_row3_col7, #T_a2957_row4_col0, #T_a2957_row4_col1, #T_a2957_row4_col2, #T_a2957_row4_col3, #T_a2957_row4_col4, #T_a2957_row4_col5, #T_a2957_row4_col6, #T_a2957_row4_col7, #T_a2957_row5_col0, #T_a2957_row5_col1, #T_a2957_row5_col2, #T_a2957_row5_col3, #T_a2957_row5_col4, #T_a2957_row5_col5, #T_a2957_row5_col6, #T_a2957_row5_col7, #T_a2957_row6_col0, #T_a2957_row6_col1, #T_a2957_row6_col2, #T_a2957_row6_col3, #T_a2957_row6_col4, #T_a2957_row6_col5, #T_a2957_row6_col6, #T_a2957_row6_col7, #T_a2957_row7_col0, #T_a2957_row7_col1, #T_a2957_row7_col2, #T_a2957_row7_col3, #T_a2957_row7_col4, #T_a2957_row7_col5, #T_a2957_row7_col6, #T_a2957_row7_col7, #T_a2957_row8_col0, #T_a2957_row8_col1, #T_a2957_row8_col2, #T_a2957_row8_col3, #T_a2957_row8_col4, #T_a2957_row8_col5, #T_a2957_row8_col6, #T_a2957_row8_col7, #T_a2957_row9_col0, #T_a2957_row9_col1, #T_a2957_row9_col2, #T_a2957_row9_col3, #T_a2957_row9_col4, #T_a2957_row9_col5, #T_a2957_row9_col6, #T_a2957_row9_col7, #T_a2957_row10_col0, #T_a2957_row10_col1, #T_a2957_row10_col2, #T_a2957_row10_col3, #T_a2957_row10_col4, #T_a2957_row10_col5, #T_a2957_row10_col6, #T_a2957_row10_col7, #T_a2957_row11_col0, #T_a2957_row11_col1, #T_a2957_row11_col2, #T_a2957_row11_col3, #T_a2957_row11_col4, #T_a2957_row11_col5, #T_a2957_row11_col6, #T_a2957_row11_col7, #T_a2957_row12_col0, #T_a2957_row12_col1, #T_a2957_row12_col2, #T_a2957_row12_col3, #T_a2957_row12_col4, #T_a2957_row12_col5, #T_a2957_row12_col6, #T_a2957_row12_col7, #T_a2957_row13_col0, #T_a2957_row13_col1, #T_a2957_row13_col2, #T_a2957_row13_col3, #T_a2957_row13_col4, #T_a2957_row13_col5, #T_a2957_row13_col6, #T_a2957_row13_col7, #T_a2957_row14_col0, #T_a2957_row14_col1, #T_a2957_row14_col2, #T_a2957_row14_col3, #T_a2957_row14_col4, #T_a2957_row14_col5, #T_a2957_row14_col6, #T_a2957_row14_col7 {\n",
       "  text-align: left;\n",
       "}\n",
       "#T_a2957_row0_col1, #T_a2957_row0_col2, #T_a2957_row0_col3, #T_a2957_row0_col4, #T_a2957_row0_col5, #T_a2957_row0_col6, #T_a2957_row0_col7 {\n",
       "  text-align: left;\n",
       "  background-color: yellow;\n",
       "}\n",
       "#T_a2957_row0_col8, #T_a2957_row1_col8, #T_a2957_row2_col8, #T_a2957_row3_col8, #T_a2957_row4_col8, #T_a2957_row5_col8, #T_a2957_row6_col8, #T_a2957_row7_col8, #T_a2957_row10_col8, #T_a2957_row11_col8, #T_a2957_row12_col8, #T_a2957_row13_col8, #T_a2957_row14_col8 {\n",
       "  text-align: left;\n",
       "  background-color: lightgrey;\n",
       "}\n",
       "#T_a2957_row8_col8, #T_a2957_row9_col8 {\n",
       "  text-align: left;\n",
       "  background-color: yellow;\n",
       "  background-color: lightgrey;\n",
       "}\n",
       "</style>\n",
       "<table id=\"T_a2957\">\n",
       "  <thead>\n",
       "    <tr>\n",
       "      <th class=\"blank level0\" >&nbsp;</th>\n",
       "      <th id=\"T_a2957_level0_col0\" class=\"col_heading level0 col0\" >Model</th>\n",
       "      <th id=\"T_a2957_level0_col1\" class=\"col_heading level0 col1\" >Accuracy</th>\n",
       "      <th id=\"T_a2957_level0_col2\" class=\"col_heading level0 col2\" >AUC</th>\n",
       "      <th id=\"T_a2957_level0_col3\" class=\"col_heading level0 col3\" >Recall</th>\n",
       "      <th id=\"T_a2957_level0_col4\" class=\"col_heading level0 col4\" >Prec.</th>\n",
       "      <th id=\"T_a2957_level0_col5\" class=\"col_heading level0 col5\" >F1</th>\n",
       "      <th id=\"T_a2957_level0_col6\" class=\"col_heading level0 col6\" >Kappa</th>\n",
       "      <th id=\"T_a2957_level0_col7\" class=\"col_heading level0 col7\" >MCC</th>\n",
       "      <th id=\"T_a2957_level0_col8\" class=\"col_heading level0 col8\" >TT (Sec)</th>\n",
       "    </tr>\n",
       "  </thead>\n",
       "  <tbody>\n",
       "    <tr>\n",
       "      <th id=\"T_a2957_level0_row0\" class=\"row_heading level0 row0\" >catboost</th>\n",
       "      <td id=\"T_a2957_row0_col0\" class=\"data row0 col0\" >CatBoost Classifier</td>\n",
       "      <td id=\"T_a2957_row0_col1\" class=\"data row0 col1\" >0.7967</td>\n",
       "      <td id=\"T_a2957_row0_col2\" class=\"data row0 col2\" >0.8819</td>\n",
       "      <td id=\"T_a2957_row0_col3\" class=\"data row0 col3\" >0.7967</td>\n",
       "      <td id=\"T_a2957_row0_col4\" class=\"data row0 col4\" >0.7985</td>\n",
       "      <td id=\"T_a2957_row0_col5\" class=\"data row0 col5\" >0.7952</td>\n",
       "      <td id=\"T_a2957_row0_col6\" class=\"data row0 col6\" >0.5867</td>\n",
       "      <td id=\"T_a2957_row0_col7\" class=\"data row0 col7\" >0.5903</td>\n",
       "      <td id=\"T_a2957_row0_col8\" class=\"data row0 col8\" >4.1650</td>\n",
       "    </tr>\n",
       "    <tr>\n",
       "      <th id=\"T_a2957_level0_row1\" class=\"row_heading level0 row1\" >lightgbm</th>\n",
       "      <td id=\"T_a2957_row1_col0\" class=\"data row1 col0\" >Light Gradient Boosting Machine</td>\n",
       "      <td id=\"T_a2957_row1_col1\" class=\"data row1 col1\" >0.7764</td>\n",
       "      <td id=\"T_a2957_row1_col2\" class=\"data row1 col2\" >0.8729</td>\n",
       "      <td id=\"T_a2957_row1_col3\" class=\"data row1 col3\" >0.7764</td>\n",
       "      <td id=\"T_a2957_row1_col4\" class=\"data row1 col4\" >0.7772</td>\n",
       "      <td id=\"T_a2957_row1_col5\" class=\"data row1 col5\" >0.7755</td>\n",
       "      <td id=\"T_a2957_row1_col6\" class=\"data row1 col6\" >0.5472</td>\n",
       "      <td id=\"T_a2957_row1_col7\" class=\"data row1 col7\" >0.5491</td>\n",
       "      <td id=\"T_a2957_row1_col8\" class=\"data row1 col8\" >0.4040</td>\n",
       "    </tr>\n",
       "    <tr>\n",
       "      <th id=\"T_a2957_level0_row2\" class=\"row_heading level0 row2\" >gbc</th>\n",
       "      <td id=\"T_a2957_row2_col0\" class=\"data row2 col0\" >Gradient Boosting Classifier</td>\n",
       "      <td id=\"T_a2957_row2_col1\" class=\"data row2 col1\" >0.7744</td>\n",
       "      <td id=\"T_a2957_row2_col2\" class=\"data row2 col2\" >0.8476</td>\n",
       "      <td id=\"T_a2957_row2_col3\" class=\"data row2 col3\" >0.7744</td>\n",
       "      <td id=\"T_a2957_row2_col4\" class=\"data row2 col4\" >0.7789</td>\n",
       "      <td id=\"T_a2957_row2_col5\" class=\"data row2 col5\" >0.7713</td>\n",
       "      <td id=\"T_a2957_row2_col6\" class=\"data row2 col6\" >0.5390</td>\n",
       "      <td id=\"T_a2957_row2_col7\" class=\"data row2 col7\" >0.5467</td>\n",
       "      <td id=\"T_a2957_row2_col8\" class=\"data row2 col8\" >0.4870</td>\n",
       "    </tr>\n",
       "    <tr>\n",
       "      <th id=\"T_a2957_level0_row3\" class=\"row_heading level0 row3\" >rf</th>\n",
       "      <td id=\"T_a2957_row3_col0\" class=\"data row3 col0\" >Random Forest Classifier</td>\n",
       "      <td id=\"T_a2957_row3_col1\" class=\"data row3 col1\" >0.7553</td>\n",
       "      <td id=\"T_a2957_row3_col2\" class=\"data row3 col2\" >0.8457</td>\n",
       "      <td id=\"T_a2957_row3_col3\" class=\"data row3 col3\" >0.7553</td>\n",
       "      <td id=\"T_a2957_row3_col4\" class=\"data row3 col4\" >0.7555</td>\n",
       "      <td id=\"T_a2957_row3_col5\" class=\"data row3 col5\" >0.7550</td>\n",
       "      <td id=\"T_a2957_row3_col6\" class=\"data row3 col6\" >0.5062</td>\n",
       "      <td id=\"T_a2957_row3_col7\" class=\"data row3 col7\" >0.5067</td>\n",
       "      <td id=\"T_a2957_row3_col8\" class=\"data row3 col8\" >0.4560</td>\n",
       "    </tr>\n",
       "    <tr>\n",
       "      <th id=\"T_a2957_level0_row4\" class=\"row_heading level0 row4\" >et</th>\n",
       "      <td id=\"T_a2957_row4_col0\" class=\"data row4 col0\" >Extra Trees Classifier</td>\n",
       "      <td id=\"T_a2957_row4_col1\" class=\"data row4 col1\" >0.7376</td>\n",
       "      <td id=\"T_a2957_row4_col2\" class=\"data row4 col2\" >0.8021</td>\n",
       "      <td id=\"T_a2957_row4_col3\" class=\"data row4 col3\" >0.7376</td>\n",
       "      <td id=\"T_a2957_row4_col4\" class=\"data row4 col4\" >0.7378</td>\n",
       "      <td id=\"T_a2957_row4_col5\" class=\"data row4 col5\" >0.7372</td>\n",
       "      <td id=\"T_a2957_row4_col6\" class=\"data row4 col6\" >0.4703</td>\n",
       "      <td id=\"T_a2957_row4_col7\" class=\"data row4 col7\" >0.4709</td>\n",
       "      <td id=\"T_a2957_row4_col8\" class=\"data row4 col8\" >0.4860</td>\n",
       "    </tr>\n",
       "    <tr>\n",
       "      <th id=\"T_a2957_level0_row5\" class=\"row_heading level0 row5\" >dt</th>\n",
       "      <td id=\"T_a2957_row5_col0\" class=\"data row5 col0\" >Decision Tree Classifier</td>\n",
       "      <td id=\"T_a2957_row5_col1\" class=\"data row5 col1\" >0.7323</td>\n",
       "      <td id=\"T_a2957_row5_col2\" class=\"data row5 col2\" >0.7411</td>\n",
       "      <td id=\"T_a2957_row5_col3\" class=\"data row5 col3\" >0.7323</td>\n",
       "      <td id=\"T_a2957_row5_col4\" class=\"data row5 col4\" >0.7329</td>\n",
       "      <td id=\"T_a2957_row5_col5\" class=\"data row5 col5\" >0.7321</td>\n",
       "      <td id=\"T_a2957_row5_col6\" class=\"data row5 col6\" >0.4606</td>\n",
       "      <td id=\"T_a2957_row5_col7\" class=\"data row5 col7\" >0.4612</td>\n",
       "      <td id=\"T_a2957_row5_col8\" class=\"data row5 col8\" >0.1530</td>\n",
       "    </tr>\n",
       "    <tr>\n",
       "      <th id=\"T_a2957_level0_row6\" class=\"row_heading level0 row6\" >knn</th>\n",
       "      <td id=\"T_a2957_row6_col0\" class=\"data row6 col0\" >K Neighbors Classifier</td>\n",
       "      <td id=\"T_a2957_row6_col1\" class=\"data row6 col1\" >0.7291</td>\n",
       "      <td id=\"T_a2957_row6_col2\" class=\"data row6 col2\" >0.8067</td>\n",
       "      <td id=\"T_a2957_row6_col3\" class=\"data row6 col3\" >0.7291</td>\n",
       "      <td id=\"T_a2957_row6_col4\" class=\"data row6 col4\" >0.7297</td>\n",
       "      <td id=\"T_a2957_row6_col5\" class=\"data row6 col5\" >0.7292</td>\n",
       "      <td id=\"T_a2957_row6_col6\" class=\"data row6 col6\" >0.4547</td>\n",
       "      <td id=\"T_a2957_row6_col7\" class=\"data row6 col7\" >0.4550</td>\n",
       "      <td id=\"T_a2957_row6_col8\" class=\"data row6 col8\" >0.1840</td>\n",
       "    </tr>\n",
       "    <tr>\n",
       "      <th id=\"T_a2957_level0_row7\" class=\"row_heading level0 row7\" >ada</th>\n",
       "      <td id=\"T_a2957_row7_col0\" class=\"data row7 col0\" >Ada Boost Classifier</td>\n",
       "      <td id=\"T_a2957_row7_col1\" class=\"data row7 col1\" >0.7157</td>\n",
       "      <td id=\"T_a2957_row7_col2\" class=\"data row7 col2\" >0.8165</td>\n",
       "      <td id=\"T_a2957_row7_col3\" class=\"data row7 col3\" >0.7157</td>\n",
       "      <td id=\"T_a2957_row7_col4\" class=\"data row7 col4\" >0.7158</td>\n",
       "      <td id=\"T_a2957_row7_col5\" class=\"data row7 col5\" >0.7151</td>\n",
       "      <td id=\"T_a2957_row7_col6\" class=\"data row7 col6\" >0.4256</td>\n",
       "      <td id=\"T_a2957_row7_col7\" class=\"data row7 col7\" >0.4265</td>\n",
       "      <td id=\"T_a2957_row7_col8\" class=\"data row7 col8\" >0.3130</td>\n",
       "    </tr>\n",
       "    <tr>\n",
       "      <th id=\"T_a2957_level0_row8\" class=\"row_heading level0 row8\" >qda</th>\n",
       "      <td id=\"T_a2957_row8_col0\" class=\"data row8 col0\" >Quadratic Discriminant Analysis</td>\n",
       "      <td id=\"T_a2957_row8_col1\" class=\"data row8 col1\" >0.6664</td>\n",
       "      <td id=\"T_a2957_row8_col2\" class=\"data row8 col2\" >0.7602</td>\n",
       "      <td id=\"T_a2957_row8_col3\" class=\"data row8 col3\" >0.6664</td>\n",
       "      <td id=\"T_a2957_row8_col4\" class=\"data row8 col4\" >0.7757</td>\n",
       "      <td id=\"T_a2957_row8_col5\" class=\"data row8 col5\" >0.6164</td>\n",
       "      <td id=\"T_a2957_row8_col6\" class=\"data row8 col6\" >0.2963</td>\n",
       "      <td id=\"T_a2957_row8_col7\" class=\"data row8 col7\" >0.4019</td>\n",
       "      <td id=\"T_a2957_row8_col8\" class=\"data row8 col8\" >0.1360</td>\n",
       "    </tr>\n",
       "    <tr>\n",
       "      <th id=\"T_a2957_level0_row9\" class=\"row_heading level0 row9\" >ridge</th>\n",
       "      <td id=\"T_a2957_row9_col0\" class=\"data row9 col0\" >Ridge Classifier</td>\n",
       "      <td id=\"T_a2957_row9_col1\" class=\"data row9 col1\" >0.5845</td>\n",
       "      <td id=\"T_a2957_row9_col2\" class=\"data row9 col2\" >0.6874</td>\n",
       "      <td id=\"T_a2957_row9_col3\" class=\"data row9 col3\" >0.5845</td>\n",
       "      <td id=\"T_a2957_row9_col4\" class=\"data row9 col4\" >0.5931</td>\n",
       "      <td id=\"T_a2957_row9_col5\" class=\"data row9 col5\" >0.5844</td>\n",
       "      <td id=\"T_a2957_row9_col6\" class=\"data row9 col6\" >0.1749</td>\n",
       "      <td id=\"T_a2957_row9_col7\" class=\"data row9 col7\" >0.1775</td>\n",
       "      <td id=\"T_a2957_row9_col8\" class=\"data row9 col8\" >0.1360</td>\n",
       "    </tr>\n",
       "    <tr>\n",
       "      <th id=\"T_a2957_level0_row10\" class=\"row_heading level0 row10\" >lr</th>\n",
       "      <td id=\"T_a2957_row10_col0\" class=\"data row10 col0\" >Logistic Regression</td>\n",
       "      <td id=\"T_a2957_row10_col1\" class=\"data row10 col1\" >0.5815</td>\n",
       "      <td id=\"T_a2957_row10_col2\" class=\"data row10 col2\" >0.6861</td>\n",
       "      <td id=\"T_a2957_row10_col3\" class=\"data row10 col3\" >0.5815</td>\n",
       "      <td id=\"T_a2957_row10_col4\" class=\"data row10 col4\" >0.5932</td>\n",
       "      <td id=\"T_a2957_row10_col5\" class=\"data row10 col5\" >0.5803</td>\n",
       "      <td id=\"T_a2957_row10_col6\" class=\"data row10 col6\" >0.1721</td>\n",
       "      <td id=\"T_a2957_row10_col7\" class=\"data row10 col7\" >0.1761</td>\n",
       "      <td id=\"T_a2957_row10_col8\" class=\"data row10 col8\" >1.8920</td>\n",
       "    </tr>\n",
       "    <tr>\n",
       "      <th id=\"T_a2957_level0_row11\" class=\"row_heading level0 row11\" >lda</th>\n",
       "      <td id=\"T_a2957_row11_col0\" class=\"data row11 col0\" >Linear Discriminant Analysis</td>\n",
       "      <td id=\"T_a2957_row11_col1\" class=\"data row11 col1\" >0.5811</td>\n",
       "      <td id=\"T_a2957_row11_col2\" class=\"data row11 col2\" >0.6875</td>\n",
       "      <td id=\"T_a2957_row11_col3\" class=\"data row11 col3\" >0.5811</td>\n",
       "      <td id=\"T_a2957_row11_col4\" class=\"data row11 col4\" >0.5884</td>\n",
       "      <td id=\"T_a2957_row11_col5\" class=\"data row11 col5\" >0.5813</td>\n",
       "      <td id=\"T_a2957_row11_col6\" class=\"data row11 col6\" >0.1668</td>\n",
       "      <td id=\"T_a2957_row11_col7\" class=\"data row11 col7\" >0.1686</td>\n",
       "      <td id=\"T_a2957_row11_col8\" class=\"data row11 col8\" >0.1590</td>\n",
       "    </tr>\n",
       "    <tr>\n",
       "      <th id=\"T_a2957_level0_row12\" class=\"row_heading level0 row12\" >nb</th>\n",
       "      <td id=\"T_a2957_row12_col0\" class=\"data row12 col0\" >Naive Bayes</td>\n",
       "      <td id=\"T_a2957_row12_col1\" class=\"data row12 col1\" >0.5590</td>\n",
       "      <td id=\"T_a2957_row12_col2\" class=\"data row12 col2\" >0.6690</td>\n",
       "      <td id=\"T_a2957_row12_col3\" class=\"data row12 col3\" >0.5590</td>\n",
       "      <td id=\"T_a2957_row12_col4\" class=\"data row12 col4\" >0.5689</td>\n",
       "      <td id=\"T_a2957_row12_col5\" class=\"data row12 col5\" >0.4710</td>\n",
       "      <td id=\"T_a2957_row12_col6\" class=\"data row12 col6\" >0.0520</td>\n",
       "      <td id=\"T_a2957_row12_col7\" class=\"data row12 col7\" >0.0824</td>\n",
       "      <td id=\"T_a2957_row12_col8\" class=\"data row12 col8\" >0.1390</td>\n",
       "    </tr>\n",
       "    <tr>\n",
       "      <th id=\"T_a2957_level0_row13\" class=\"row_heading level0 row13\" >dummy</th>\n",
       "      <td id=\"T_a2957_row13_col0\" class=\"data row13 col0\" >Dummy Classifier</td>\n",
       "      <td id=\"T_a2957_row13_col1\" class=\"data row13 col1\" >0.5433</td>\n",
       "      <td id=\"T_a2957_row13_col2\" class=\"data row13 col2\" >0.5000</td>\n",
       "      <td id=\"T_a2957_row13_col3\" class=\"data row13 col3\" >0.5433</td>\n",
       "      <td id=\"T_a2957_row13_col4\" class=\"data row13 col4\" >0.2952</td>\n",
       "      <td id=\"T_a2957_row13_col5\" class=\"data row13 col5\" >0.3826</td>\n",
       "      <td id=\"T_a2957_row13_col6\" class=\"data row13 col6\" >0.0000</td>\n",
       "      <td id=\"T_a2957_row13_col7\" class=\"data row13 col7\" >0.0000</td>\n",
       "      <td id=\"T_a2957_row13_col8\" class=\"data row13 col8\" >0.1450</td>\n",
       "    </tr>\n",
       "    <tr>\n",
       "      <th id=\"T_a2957_level0_row14\" class=\"row_heading level0 row14\" >svm</th>\n",
       "      <td id=\"T_a2957_row14_col0\" class=\"data row14 col0\" >SVM - Linear Kernel</td>\n",
       "      <td id=\"T_a2957_row14_col1\" class=\"data row14 col1\" >0.4044</td>\n",
       "      <td id=\"T_a2957_row14_col2\" class=\"data row14 col2\" >0.4338</td>\n",
       "      <td id=\"T_a2957_row14_col3\" class=\"data row14 col3\" >0.4044</td>\n",
       "      <td id=\"T_a2957_row14_col4\" class=\"data row14 col4\" >0.2840</td>\n",
       "      <td id=\"T_a2957_row14_col5\" class=\"data row14 col5\" >0.2990</td>\n",
       "      <td id=\"T_a2957_row14_col6\" class=\"data row14 col6\" >-0.1362</td>\n",
       "      <td id=\"T_a2957_row14_col7\" class=\"data row14 col7\" >-0.2307</td>\n",
       "      <td id=\"T_a2957_row14_col8\" class=\"data row14 col8\" >0.1620</td>\n",
       "    </tr>\n",
       "  </tbody>\n",
       "</table>\n"
      ],
      "text/plain": [
       "<pandas.io.formats.style.Styler at 0x297c9cecf10>"
      ]
     },
     "metadata": {},
     "output_type": "display_data"
    },
    {
     "data": {
      "text/html": [],
      "text/plain": [
       "<IPython.core.display.HTML object>"
      ]
     },
     "metadata": {},
     "output_type": "display_data"
    }
   ],
   "source": [
    "# compare the models to evaluate the performance \n",
    "\n",
    "comp_mdl = s.compare_models()"
   ]
  },
  {
   "cell_type": "code",
   "execution_count": 11,
   "id": "76c45857-e39c-4b3b-84dd-528d7c1fe6fe",
   "metadata": {},
   "outputs": [
    {
     "data": {
      "text/plain": [
       "<catboost.core.CatBoostClassifier at 0x297cb31aad0>"
      ]
     },
     "execution_count": 11,
     "metadata": {},
     "output_type": "execute_result"
    }
   ],
   "source": [
    "# display the chosen model\n",
    "\n",
    "comp_mdl"
   ]
  },
  {
   "cell_type": "markdown",
   "id": "e716c218-e1ed-413e-bf89-3663e627394b",
   "metadata": {},
   "source": [
    "### Create the selected model"
   ]
  },
  {
   "cell_type": "code",
   "execution_count": 12,
   "id": "a7bd60c0-cf0a-426f-8ae3-c67d79617d88",
   "metadata": {},
   "outputs": [
    {
     "data": {
      "text/html": [],
      "text/plain": [
       "<IPython.core.display.HTML object>"
      ]
     },
     "metadata": {},
     "output_type": "display_data"
    },
    {
     "data": {
      "text/html": [
       "<style type=\"text/css\">\n",
       "#T_62302_row10_col0, #T_62302_row10_col1, #T_62302_row10_col2, #T_62302_row10_col3, #T_62302_row10_col4, #T_62302_row10_col5, #T_62302_row10_col6 {\n",
       "  background: yellow;\n",
       "}\n",
       "</style>\n",
       "<table id=\"T_62302\">\n",
       "  <thead>\n",
       "    <tr>\n",
       "      <th class=\"blank level0\" >&nbsp;</th>\n",
       "      <th id=\"T_62302_level0_col0\" class=\"col_heading level0 col0\" >Accuracy</th>\n",
       "      <th id=\"T_62302_level0_col1\" class=\"col_heading level0 col1\" >AUC</th>\n",
       "      <th id=\"T_62302_level0_col2\" class=\"col_heading level0 col2\" >Recall</th>\n",
       "      <th id=\"T_62302_level0_col3\" class=\"col_heading level0 col3\" >Prec.</th>\n",
       "      <th id=\"T_62302_level0_col4\" class=\"col_heading level0 col4\" >F1</th>\n",
       "      <th id=\"T_62302_level0_col5\" class=\"col_heading level0 col5\" >Kappa</th>\n",
       "      <th id=\"T_62302_level0_col6\" class=\"col_heading level0 col6\" >MCC</th>\n",
       "    </tr>\n",
       "    <tr>\n",
       "      <th class=\"index_name level0\" >Fold</th>\n",
       "      <th class=\"blank col0\" >&nbsp;</th>\n",
       "      <th class=\"blank col1\" >&nbsp;</th>\n",
       "      <th class=\"blank col2\" >&nbsp;</th>\n",
       "      <th class=\"blank col3\" >&nbsp;</th>\n",
       "      <th class=\"blank col4\" >&nbsp;</th>\n",
       "      <th class=\"blank col5\" >&nbsp;</th>\n",
       "      <th class=\"blank col6\" >&nbsp;</th>\n",
       "    </tr>\n",
       "  </thead>\n",
       "  <tbody>\n",
       "    <tr>\n",
       "      <th id=\"T_62302_level0_row0\" class=\"row_heading level0 row0\" >0</th>\n",
       "      <td id=\"T_62302_row0_col0\" class=\"data row0 col0\" >0.7864</td>\n",
       "      <td id=\"T_62302_row0_col1\" class=\"data row0 col1\" >0.8775</td>\n",
       "      <td id=\"T_62302_row0_col2\" class=\"data row0 col2\" >0.7864</td>\n",
       "      <td id=\"T_62302_row0_col3\" class=\"data row0 col3\" >0.7865</td>\n",
       "      <td id=\"T_62302_row0_col4\" class=\"data row0 col4\" >0.7854</td>\n",
       "      <td id=\"T_62302_row0_col5\" class=\"data row0 col5\" >0.5668</td>\n",
       "      <td id=\"T_62302_row0_col6\" class=\"data row0 col6\" >0.5683</td>\n",
       "    </tr>\n",
       "    <tr>\n",
       "      <th id=\"T_62302_level0_row1\" class=\"row_heading level0 row1\" >1</th>\n",
       "      <td id=\"T_62302_row1_col0\" class=\"data row1 col0\" >0.8091</td>\n",
       "      <td id=\"T_62302_row1_col1\" class=\"data row1 col1\" >0.8803</td>\n",
       "      <td id=\"T_62302_row1_col2\" class=\"data row1 col2\" >0.8091</td>\n",
       "      <td id=\"T_62302_row1_col3\" class=\"data row1 col3\" >0.8095</td>\n",
       "      <td id=\"T_62302_row1_col4\" class=\"data row1 col4\" >0.8082</td>\n",
       "      <td id=\"T_62302_row1_col5\" class=\"data row1 col5\" >0.6129</td>\n",
       "      <td id=\"T_62302_row1_col6\" class=\"data row1 col6\" >0.6145</td>\n",
       "    </tr>\n",
       "    <tr>\n",
       "      <th id=\"T_62302_level0_row2\" class=\"row_heading level0 row2\" >2</th>\n",
       "      <td id=\"T_62302_row2_col0\" class=\"data row2 col0\" >0.7795</td>\n",
       "      <td id=\"T_62302_row2_col1\" class=\"data row2 col1\" >0.8639</td>\n",
       "      <td id=\"T_62302_row2_col2\" class=\"data row2 col2\" >0.7795</td>\n",
       "      <td id=\"T_62302_row2_col3\" class=\"data row2 col3\" >0.7820</td>\n",
       "      <td id=\"T_62302_row2_col4\" class=\"data row2 col4\" >0.7773</td>\n",
       "      <td id=\"T_62302_row2_col5\" class=\"data row2 col5\" >0.5506</td>\n",
       "      <td id=\"T_62302_row2_col6\" class=\"data row2 col6\" >0.5557</td>\n",
       "    </tr>\n",
       "    <tr>\n",
       "      <th id=\"T_62302_level0_row3\" class=\"row_heading level0 row3\" >3</th>\n",
       "      <td id=\"T_62302_row3_col0\" class=\"data row3 col0\" >0.7886</td>\n",
       "      <td id=\"T_62302_row3_col1\" class=\"data row3 col1\" >0.8729</td>\n",
       "      <td id=\"T_62302_row3_col2\" class=\"data row3 col2\" >0.7886</td>\n",
       "      <td id=\"T_62302_row3_col3\" class=\"data row3 col3\" >0.7884</td>\n",
       "      <td id=\"T_62302_row3_col4\" class=\"data row3 col4\" >0.7884</td>\n",
       "      <td id=\"T_62302_row3_col5\" class=\"data row3 col5\" >0.5733</td>\n",
       "      <td id=\"T_62302_row3_col6\" class=\"data row3 col6\" >0.5734</td>\n",
       "    </tr>\n",
       "    <tr>\n",
       "      <th id=\"T_62302_level0_row4\" class=\"row_heading level0 row4\" >4</th>\n",
       "      <td id=\"T_62302_row4_col0\" class=\"data row4 col0\" >0.7909</td>\n",
       "      <td id=\"T_62302_row4_col1\" class=\"data row4 col1\" >0.8709</td>\n",
       "      <td id=\"T_62302_row4_col2\" class=\"data row4 col2\" >0.7909</td>\n",
       "      <td id=\"T_62302_row4_col3\" class=\"data row4 col3\" >0.7925</td>\n",
       "      <td id=\"T_62302_row4_col4\" class=\"data row4 col4\" >0.7893</td>\n",
       "      <td id=\"T_62302_row4_col5\" class=\"data row4 col5\" >0.5746</td>\n",
       "      <td id=\"T_62302_row4_col6\" class=\"data row4 col6\" >0.5782</td>\n",
       "    </tr>\n",
       "    <tr>\n",
       "      <th id=\"T_62302_level0_row5\" class=\"row_heading level0 row5\" >5</th>\n",
       "      <td id=\"T_62302_row5_col0\" class=\"data row5 col0\" >0.8295</td>\n",
       "      <td id=\"T_62302_row5_col1\" class=\"data row5 col1\" >0.9078</td>\n",
       "      <td id=\"T_62302_row5_col2\" class=\"data row5 col2\" >0.8295</td>\n",
       "      <td id=\"T_62302_row5_col3\" class=\"data row5 col3\" >0.8343</td>\n",
       "      <td id=\"T_62302_row5_col4\" class=\"data row5 col4\" >0.8276</td>\n",
       "      <td id=\"T_62302_row5_col5\" class=\"data row5 col5\" >0.6523</td>\n",
       "      <td id=\"T_62302_row5_col6\" class=\"data row5 col6\" >0.6591</td>\n",
       "    </tr>\n",
       "    <tr>\n",
       "      <th id=\"T_62302_level0_row6\" class=\"row_heading level0 row6\" >6</th>\n",
       "      <td id=\"T_62302_row6_col0\" class=\"data row6 col0\" >0.8000</td>\n",
       "      <td id=\"T_62302_row6_col1\" class=\"data row6 col1\" >0.8808</td>\n",
       "      <td id=\"T_62302_row6_col2\" class=\"data row6 col2\" >0.8000</td>\n",
       "      <td id=\"T_62302_row6_col3\" class=\"data row6 col3\" >0.8064</td>\n",
       "      <td id=\"T_62302_row6_col4\" class=\"data row6 col4\" >0.7969</td>\n",
       "      <td id=\"T_62302_row6_col5\" class=\"data row6 col5\" >0.5908</td>\n",
       "      <td id=\"T_62302_row6_col6\" class=\"data row6 col6\" >0.6003</td>\n",
       "    </tr>\n",
       "    <tr>\n",
       "      <th id=\"T_62302_level0_row7\" class=\"row_heading level0 row7\" >7</th>\n",
       "      <td id=\"T_62302_row7_col0\" class=\"data row7 col0\" >0.7654</td>\n",
       "      <td id=\"T_62302_row7_col1\" class=\"data row7 col1\" >0.8725</td>\n",
       "      <td id=\"T_62302_row7_col2\" class=\"data row7 col2\" >0.7654</td>\n",
       "      <td id=\"T_62302_row7_col3\" class=\"data row7 col3\" >0.7658</td>\n",
       "      <td id=\"T_62302_row7_col4\" class=\"data row7 col4\" >0.7638</td>\n",
       "      <td id=\"T_62302_row7_col5\" class=\"data row7 col5\" >0.5229</td>\n",
       "      <td id=\"T_62302_row7_col6\" class=\"data row7 col6\" >0.5254</td>\n",
       "    </tr>\n",
       "    <tr>\n",
       "      <th id=\"T_62302_level0_row8\" class=\"row_heading level0 row8\" >8</th>\n",
       "      <td id=\"T_62302_row8_col0\" class=\"data row8 col0\" >0.7927</td>\n",
       "      <td id=\"T_62302_row8_col1\" class=\"data row8 col1\" >0.8934</td>\n",
       "      <td id=\"T_62302_row8_col2\" class=\"data row8 col2\" >0.7927</td>\n",
       "      <td id=\"T_62302_row8_col3\" class=\"data row8 col3\" >0.7945</td>\n",
       "      <td id=\"T_62302_row8_col4\" class=\"data row8 col4\" >0.7910</td>\n",
       "      <td id=\"T_62302_row8_col5\" class=\"data row8 col5\" >0.5778</td>\n",
       "      <td id=\"T_62302_row8_col6\" class=\"data row8 col6\" >0.5817</td>\n",
       "    </tr>\n",
       "    <tr>\n",
       "      <th id=\"T_62302_level0_row9\" class=\"row_heading level0 row9\" >9</th>\n",
       "      <td id=\"T_62302_row9_col0\" class=\"data row9 col0\" >0.8246</td>\n",
       "      <td id=\"T_62302_row9_col1\" class=\"data row9 col1\" >0.8987</td>\n",
       "      <td id=\"T_62302_row9_col2\" class=\"data row9 col2\" >0.8246</td>\n",
       "      <td id=\"T_62302_row9_col3\" class=\"data row9 col3\" >0.8251</td>\n",
       "      <td id=\"T_62302_row9_col4\" class=\"data row9 col4\" >0.8239</td>\n",
       "      <td id=\"T_62302_row9_col5\" class=\"data row9 col5\" >0.6446</td>\n",
       "      <td id=\"T_62302_row9_col6\" class=\"data row9 col6\" >0.6462</td>\n",
       "    </tr>\n",
       "    <tr>\n",
       "      <th id=\"T_62302_level0_row10\" class=\"row_heading level0 row10\" >Mean</th>\n",
       "      <td id=\"T_62302_row10_col0\" class=\"data row10 col0\" >0.7967</td>\n",
       "      <td id=\"T_62302_row10_col1\" class=\"data row10 col1\" >0.8819</td>\n",
       "      <td id=\"T_62302_row10_col2\" class=\"data row10 col2\" >0.7967</td>\n",
       "      <td id=\"T_62302_row10_col3\" class=\"data row10 col3\" >0.7985</td>\n",
       "      <td id=\"T_62302_row10_col4\" class=\"data row10 col4\" >0.7952</td>\n",
       "      <td id=\"T_62302_row10_col5\" class=\"data row10 col5\" >0.5867</td>\n",
       "      <td id=\"T_62302_row10_col6\" class=\"data row10 col6\" >0.5903</td>\n",
       "    </tr>\n",
       "    <tr>\n",
       "      <th id=\"T_62302_level0_row11\" class=\"row_heading level0 row11\" >Std</th>\n",
       "      <td id=\"T_62302_row11_col0\" class=\"data row11 col0\" >0.0188</td>\n",
       "      <td id=\"T_62302_row11_col1\" class=\"data row11 col1\" >0.0131</td>\n",
       "      <td id=\"T_62302_row11_col2\" class=\"data row11 col2\" >0.0188</td>\n",
       "      <td id=\"T_62302_row11_col3\" class=\"data row11 col3\" >0.0195</td>\n",
       "      <td id=\"T_62302_row11_col4\" class=\"data row11 col4\" >0.0188</td>\n",
       "      <td id=\"T_62302_row11_col5\" class=\"data row11 col5\" >0.0381</td>\n",
       "      <td id=\"T_62302_row11_col6\" class=\"data row11 col6\" >0.0387</td>\n",
       "    </tr>\n",
       "  </tbody>\n",
       "</table>\n"
      ],
      "text/plain": [
       "<pandas.io.formats.style.Styler at 0x297c1c274d0>"
      ]
     },
     "metadata": {},
     "output_type": "display_data"
    },
    {
     "data": {
      "text/html": [],
      "text/plain": [
       "<IPython.core.display.HTML object>"
      ]
     },
     "metadata": {},
     "output_type": "display_data"
    }
   ],
   "source": [
    "# create the 'catboost' model\n",
    "\n",
    "catboost_mdl = s.create_model('catboost')"
   ]
  },
  {
   "cell_type": "code",
   "execution_count": 13,
   "id": "cbe721d6-1407-4433-b1a8-6d3ab2d7c31e",
   "metadata": {},
   "outputs": [
    {
     "data": {
      "text/plain": [
       "<catboost.core.CatBoostClassifier at 0x297c9c9be10>"
      ]
     },
     "execution_count": 13,
     "metadata": {},
     "output_type": "execute_result"
    }
   ],
   "source": [
    "catboost_mdl"
   ]
  },
  {
   "cell_type": "markdown",
   "id": "1e66f274-0490-4130-a93f-4be7f4fcd83e",
   "metadata": {},
   "source": [
    "### Tune the model"
   ]
  },
  {
   "cell_type": "code",
   "execution_count": 14,
   "id": "263c2e1d-f5cd-442c-9bec-f1045408835d",
   "metadata": {},
   "outputs": [
    {
     "data": {
      "text/html": [],
      "text/plain": [
       "<IPython.core.display.HTML object>"
      ]
     },
     "metadata": {},
     "output_type": "display_data"
    },
    {
     "data": {
      "text/html": [
       "<style type=\"text/css\">\n",
       "#T_63685_row10_col0, #T_63685_row10_col1, #T_63685_row10_col2, #T_63685_row10_col3, #T_63685_row10_col4, #T_63685_row10_col5, #T_63685_row10_col6 {\n",
       "  background: yellow;\n",
       "}\n",
       "</style>\n",
       "<table id=\"T_63685\">\n",
       "  <thead>\n",
       "    <tr>\n",
       "      <th class=\"blank level0\" >&nbsp;</th>\n",
       "      <th id=\"T_63685_level0_col0\" class=\"col_heading level0 col0\" >Accuracy</th>\n",
       "      <th id=\"T_63685_level0_col1\" class=\"col_heading level0 col1\" >AUC</th>\n",
       "      <th id=\"T_63685_level0_col2\" class=\"col_heading level0 col2\" >Recall</th>\n",
       "      <th id=\"T_63685_level0_col3\" class=\"col_heading level0 col3\" >Prec.</th>\n",
       "      <th id=\"T_63685_level0_col4\" class=\"col_heading level0 col4\" >F1</th>\n",
       "      <th id=\"T_63685_level0_col5\" class=\"col_heading level0 col5\" >Kappa</th>\n",
       "      <th id=\"T_63685_level0_col6\" class=\"col_heading level0 col6\" >MCC</th>\n",
       "    </tr>\n",
       "    <tr>\n",
       "      <th class=\"index_name level0\" >Fold</th>\n",
       "      <th class=\"blank col0\" >&nbsp;</th>\n",
       "      <th class=\"blank col1\" >&nbsp;</th>\n",
       "      <th class=\"blank col2\" >&nbsp;</th>\n",
       "      <th class=\"blank col3\" >&nbsp;</th>\n",
       "      <th class=\"blank col4\" >&nbsp;</th>\n",
       "      <th class=\"blank col5\" >&nbsp;</th>\n",
       "      <th class=\"blank col6\" >&nbsp;</th>\n",
       "    </tr>\n",
       "  </thead>\n",
       "  <tbody>\n",
       "    <tr>\n",
       "      <th id=\"T_63685_level0_row0\" class=\"row_heading level0 row0\" >0</th>\n",
       "      <td id=\"T_63685_row0_col0\" class=\"data row0 col0\" >0.7705</td>\n",
       "      <td id=\"T_63685_row0_col1\" class=\"data row0 col1\" >0.8757</td>\n",
       "      <td id=\"T_63685_row0_col2\" class=\"data row0 col2\" >0.7705</td>\n",
       "      <td id=\"T_63685_row0_col3\" class=\"data row0 col3\" >0.7702</td>\n",
       "      <td id=\"T_63685_row0_col4\" class=\"data row0 col4\" >0.7697</td>\n",
       "      <td id=\"T_63685_row0_col5\" class=\"data row0 col5\" >0.5351</td>\n",
       "      <td id=\"T_63685_row0_col6\" class=\"data row0 col6\" >0.5360</td>\n",
       "    </tr>\n",
       "    <tr>\n",
       "      <th id=\"T_63685_level0_row1\" class=\"row_heading level0 row1\" >1</th>\n",
       "      <td id=\"T_63685_row1_col0\" class=\"data row1 col0\" >0.7705</td>\n",
       "      <td id=\"T_63685_row1_col1\" class=\"data row1 col1\" >0.8687</td>\n",
       "      <td id=\"T_63685_row1_col2\" class=\"data row1 col2\" >0.7705</td>\n",
       "      <td id=\"T_63685_row1_col3\" class=\"data row1 col3\" >0.7701</td>\n",
       "      <td id=\"T_63685_row1_col4\" class=\"data row1 col4\" >0.7699</td>\n",
       "      <td id=\"T_63685_row1_col5\" class=\"data row1 col5\" >0.5358</td>\n",
       "      <td id=\"T_63685_row1_col6\" class=\"data row1 col6\" >0.5363</td>\n",
       "    </tr>\n",
       "    <tr>\n",
       "      <th id=\"T_63685_level0_row2\" class=\"row_heading level0 row2\" >2</th>\n",
       "      <td id=\"T_63685_row2_col0\" class=\"data row2 col0\" >0.7545</td>\n",
       "      <td id=\"T_63685_row2_col1\" class=\"data row2 col1\" >0.8585</td>\n",
       "      <td id=\"T_63685_row2_col2\" class=\"data row2 col2\" >0.7545</td>\n",
       "      <td id=\"T_63685_row2_col3\" class=\"data row2 col3\" >0.7553</td>\n",
       "      <td id=\"T_63685_row2_col4\" class=\"data row2 col4\" >0.7526</td>\n",
       "      <td id=\"T_63685_row2_col5\" class=\"data row2 col5\" >0.5007</td>\n",
       "      <td id=\"T_63685_row2_col6\" class=\"data row2 col6\" >0.5038</td>\n",
       "    </tr>\n",
       "    <tr>\n",
       "      <th id=\"T_63685_level0_row3\" class=\"row_heading level0 row3\" >3</th>\n",
       "      <td id=\"T_63685_row3_col0\" class=\"data row3 col0\" >0.7818</td>\n",
       "      <td id=\"T_63685_row3_col1\" class=\"data row3 col1\" >0.8665</td>\n",
       "      <td id=\"T_63685_row3_col2\" class=\"data row3 col2\" >0.7818</td>\n",
       "      <td id=\"T_63685_row3_col3\" class=\"data row3 col3\" >0.7816</td>\n",
       "      <td id=\"T_63685_row3_col4\" class=\"data row3 col4\" >0.7811</td>\n",
       "      <td id=\"T_63685_row3_col5\" class=\"data row3 col5\" >0.5583</td>\n",
       "      <td id=\"T_63685_row3_col6\" class=\"data row3 col6\" >0.5591</td>\n",
       "    </tr>\n",
       "    <tr>\n",
       "      <th id=\"T_63685_level0_row4\" class=\"row_heading level0 row4\" >4</th>\n",
       "      <td id=\"T_63685_row4_col0\" class=\"data row4 col0\" >0.7977</td>\n",
       "      <td id=\"T_63685_row4_col1\" class=\"data row4 col1\" >0.8703</td>\n",
       "      <td id=\"T_63685_row4_col2\" class=\"data row4 col2\" >0.7977</td>\n",
       "      <td id=\"T_63685_row4_col3\" class=\"data row4 col3\" >0.8007</td>\n",
       "      <td id=\"T_63685_row4_col4\" class=\"data row4 col4\" >0.7956</td>\n",
       "      <td id=\"T_63685_row4_col5\" class=\"data row4 col5\" >0.5877</td>\n",
       "      <td id=\"T_63685_row4_col6\" class=\"data row4 col6\" >0.5931</td>\n",
       "    </tr>\n",
       "    <tr>\n",
       "      <th id=\"T_63685_level0_row5\" class=\"row_heading level0 row5\" >5</th>\n",
       "      <td id=\"T_63685_row5_col0\" class=\"data row5 col0\" >0.8273</td>\n",
       "      <td id=\"T_63685_row5_col1\" class=\"data row5 col1\" >0.9125</td>\n",
       "      <td id=\"T_63685_row5_col2\" class=\"data row5 col2\" >0.8273</td>\n",
       "      <td id=\"T_63685_row5_col3\" class=\"data row5 col3\" >0.8302</td>\n",
       "      <td id=\"T_63685_row5_col4\" class=\"data row5 col4\" >0.8258</td>\n",
       "      <td id=\"T_63685_row5_col5\" class=\"data row5 col5\" >0.6483</td>\n",
       "      <td id=\"T_63685_row5_col6\" class=\"data row5 col6\" >0.6531</td>\n",
       "    </tr>\n",
       "    <tr>\n",
       "      <th id=\"T_63685_level0_row6\" class=\"row_heading level0 row6\" >6</th>\n",
       "      <td id=\"T_63685_row6_col0\" class=\"data row6 col0\" >0.7773</td>\n",
       "      <td id=\"T_63685_row6_col1\" class=\"data row6 col1\" >0.8803</td>\n",
       "      <td id=\"T_63685_row6_col2\" class=\"data row6 col2\" >0.7773</td>\n",
       "      <td id=\"T_63685_row6_col3\" class=\"data row6 col3\" >0.7805</td>\n",
       "      <td id=\"T_63685_row6_col4\" class=\"data row6 col4\" >0.7746</td>\n",
       "      <td id=\"T_63685_row6_col5\" class=\"data row6 col5\" >0.5454</td>\n",
       "      <td id=\"T_63685_row6_col6\" class=\"data row6 col6\" >0.5516</td>\n",
       "    </tr>\n",
       "    <tr>\n",
       "      <th id=\"T_63685_level0_row7\" class=\"row_heading level0 row7\" >7</th>\n",
       "      <td id=\"T_63685_row7_col0\" class=\"data row7 col0\" >0.7722</td>\n",
       "      <td id=\"T_63685_row7_col1\" class=\"data row7 col1\" >0.8641</td>\n",
       "      <td id=\"T_63685_row7_col2\" class=\"data row7 col2\" >0.7722</td>\n",
       "      <td id=\"T_63685_row7_col3\" class=\"data row7 col3\" >0.7726</td>\n",
       "      <td id=\"T_63685_row7_col4\" class=\"data row7 col4\" >0.7708</td>\n",
       "      <td id=\"T_63685_row7_col5\" class=\"data row7 col5\" >0.5370</td>\n",
       "      <td id=\"T_63685_row7_col6\" class=\"data row7 col6\" >0.5393</td>\n",
       "    </tr>\n",
       "    <tr>\n",
       "      <th id=\"T_63685_level0_row8\" class=\"row_heading level0 row8\" >8</th>\n",
       "      <td id=\"T_63685_row8_col0\" class=\"data row8 col0\" >0.7927</td>\n",
       "      <td id=\"T_63685_row8_col1\" class=\"data row8 col1\" >0.8911</td>\n",
       "      <td id=\"T_63685_row8_col2\" class=\"data row8 col2\" >0.7927</td>\n",
       "      <td id=\"T_63685_row8_col3\" class=\"data row8 col3\" >0.7945</td>\n",
       "      <td id=\"T_63685_row8_col4\" class=\"data row8 col4\" >0.7910</td>\n",
       "      <td id=\"T_63685_row8_col5\" class=\"data row8 col5\" >0.5778</td>\n",
       "      <td id=\"T_63685_row8_col6\" class=\"data row8 col6\" >0.5817</td>\n",
       "    </tr>\n",
       "    <tr>\n",
       "      <th id=\"T_63685_level0_row9\" class=\"row_heading level0 row9\" >9</th>\n",
       "      <td id=\"T_63685_row9_col0\" class=\"data row9 col0\" >0.8087</td>\n",
       "      <td id=\"T_63685_row9_col1\" class=\"data row9 col1\" >0.8921</td>\n",
       "      <td id=\"T_63685_row9_col2\" class=\"data row9 col2\" >0.8087</td>\n",
       "      <td id=\"T_63685_row9_col3\" class=\"data row9 col3\" >0.8098</td>\n",
       "      <td id=\"T_63685_row9_col4\" class=\"data row9 col4\" >0.8075</td>\n",
       "      <td id=\"T_63685_row9_col5\" class=\"data row9 col5\" >0.6116</td>\n",
       "      <td id=\"T_63685_row9_col6\" class=\"data row9 col6\" >0.6142</td>\n",
       "    </tr>\n",
       "    <tr>\n",
       "      <th id=\"T_63685_level0_row10\" class=\"row_heading level0 row10\" >Mean</th>\n",
       "      <td id=\"T_63685_row10_col0\" class=\"data row10 col0\" >0.7853</td>\n",
       "      <td id=\"T_63685_row10_col1\" class=\"data row10 col1\" >0.8780</td>\n",
       "      <td id=\"T_63685_row10_col2\" class=\"data row10 col2\" >0.7853</td>\n",
       "      <td id=\"T_63685_row10_col3\" class=\"data row10 col3\" >0.7866</td>\n",
       "      <td id=\"T_63685_row10_col4\" class=\"data row10 col4\" >0.7839</td>\n",
       "      <td id=\"T_63685_row10_col5\" class=\"data row10 col5\" >0.5638</td>\n",
       "      <td id=\"T_63685_row10_col6\" class=\"data row10 col6\" >0.5668</td>\n",
       "    </tr>\n",
       "    <tr>\n",
       "      <th id=\"T_63685_level0_row11\" class=\"row_heading level0 row11\" >Std</th>\n",
       "      <td id=\"T_63685_row11_col0\" class=\"data row11 col0\" >0.0204</td>\n",
       "      <td id=\"T_63685_row11_col1\" class=\"data row11 col1\" >0.0155</td>\n",
       "      <td id=\"T_63685_row11_col2\" class=\"data row11 col2\" >0.0204</td>\n",
       "      <td id=\"T_63685_row11_col3\" class=\"data row11 col3\" >0.0212</td>\n",
       "      <td id=\"T_63685_row11_col4\" class=\"data row11 col4\" >0.0203</td>\n",
       "      <td id=\"T_63685_row11_col5\" class=\"data row11 col5\" >0.0411</td>\n",
       "      <td id=\"T_63685_row11_col6\" class=\"data row11 col6\" >0.0418</td>\n",
       "    </tr>\n",
       "  </tbody>\n",
       "</table>\n"
      ],
      "text/plain": [
       "<pandas.io.formats.style.Styler at 0x297c99571d0>"
      ]
     },
     "metadata": {},
     "output_type": "display_data"
    },
    {
     "data": {
      "text/html": [],
      "text/plain": [
       "<IPython.core.display.HTML object>"
      ]
     },
     "metadata": {},
     "output_type": "display_data"
    },
    {
     "name": "stdout",
     "output_type": "stream",
     "text": [
      "Fitting 10 folds for each of 10 candidates, totalling 100 fits\n",
      "Original model was better than the tuned model, hence it will be returned. NOTE: The display metrics are for the tuned model (not the original one).\n"
     ]
    }
   ],
   "source": [
    "# tune the model \n",
    "\n",
    "tuned_catboost_mdl = s.tune_model(catboost_mdl)"
   ]
  },
  {
   "cell_type": "raw",
   "id": "71bce19e-98a3-4149-919b-65e37213dac4",
   "metadata": {},
   "source": [
    "Score Comparison\n",
    "\n",
    "**Catboost model scores**\n",
    "    \tAccuracy   AUC\tRecall\t Prec.\t  F1\t Kappa\t  MCC\n",
    "Mean\t0.7967\t0.8819\t0.7967\t0.7985\t0.7952\t0.5867\t0.5903\n",
    "Std\t    0.0188\t0.0131\t0.0188\t0.0195\t0.0188\t0.0381\t0.0387\n",
    "\n",
    "**Tuned Catboost model scores**\n",
    "        Accuracy  AUC\t Recall\t Prec.\t  F1\t Kappa\t  MCC    \t \t \t \t \t \t \n",
    "Mean\t0.7853\t0.8780\t0.7853\t0.7866\t0.7839\t0.5638\t0.5668\n",
    "Std\t    0.0204\t0.0155\t0.0204\t0.0212\t0.0203\t0.0411\t0.0418\n"
   ]
  },
  {
   "cell_type": "markdown",
   "id": "9205fc9f-c5b3-48d8-bcc9-a4f47ef54a95",
   "metadata": {},
   "source": [
    "### Evaluate the model "
   ]
  },
  {
   "cell_type": "code",
   "execution_count": 15,
   "id": "dc5fb347-f759-422b-8c98-875887304e50",
   "metadata": {},
   "outputs": [
    {
     "data": {
      "application/vnd.jupyter.widget-view+json": {
       "model_id": "bdfe7f1f134a4a1fbb1ec7de01e7f96d",
       "version_major": 2,
       "version_minor": 0
      },
      "text/plain": [
       "interactive(children=(ToggleButtons(description='Plot Type:', icons=('',), options=(('Pipeline Plot', 'pipelin…"
      ]
     },
     "metadata": {},
     "output_type": "display_data"
    }
   ],
   "source": [
    "eval_mdl = s.evaluate_model(catboost_mdl)"
   ]
  }
 ],
 "metadata": {
  "kernelspec": {
   "display_name": "Python 3 (ipykernel)",
   "language": "python",
   "name": "python3"
  },
  "language_info": {
   "codemirror_mode": {
    "name": "ipython",
    "version": 3
   },
   "file_extension": ".py",
   "mimetype": "text/x-python",
   "name": "python",
   "nbconvert_exporter": "python",
   "pygments_lexer": "ipython3",
   "version": "3.11.11"
  }
 },
 "nbformat": 4,
 "nbformat_minor": 5
}
