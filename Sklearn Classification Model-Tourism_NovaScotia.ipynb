{
 "cells": [
  {
   "cell_type": "markdown",
   "id": "705dc787-d6ca-4b11-8772-7e628eede9d2",
   "metadata": {},
   "source": [
    "# Scikit-Learn Classification Model - Supervised Learning\n",
    "\n",
    "#### Data: Tourism Nova Scotia\n",
    "#### Time: 2006 to 2024\n",
    "#### Data Source: https://data.novascotia.ca/Business-and-Industry/Tourism-Nova-Scotia-Visitation/n783-4gmh/about_data "
   ]
  },
  {
   "cell_type": "markdown",
   "id": "f50b80c1-48c7-4e2f-8846-40293f6faad6",
   "metadata": {},
   "source": [
    "## Tourism Nova Scotia: \n",
    "#### Nova Scotia is a popular getaway known for its scenic beauty and calm pace of life. Being surrounded by water all around, it hosts vast greenery and picturesque locations starting from a world's famous Cabot Trails, local wineries, cozy cottages etc.\n",
    "#### The data is mainly seggregated by the 'Mode of entry' followed by the 'Visitor Origin'. We will attempt to predict the feature 'Mode of entry' by using 'Catboost Classifier' model.\n",
    "\n",
    "## Catboost Classifier aka Categorical Boosting: \n",
    "#### This is based on decision trees and has the ability to handle categorical features.\n",
    "#### Very effective when datasets have categorical features and in this case, the Nova Scotia-Tourism data set has four categorical features.\n",
    "#### Is is better to avoid using this if the dataset has high or purely numerical features.\n",
    "\n",
    "### Classification tasks --> CatBoostClassifier;    Regression tasks --> CatBoostRegressor\n",
    "\n",
    "\n"
   ]
  },
  {
   "cell_type": "markdown",
   "id": "6a7b522e-d750-48ab-8ba2-1aa79000330e",
   "metadata": {},
   "source": [
    "## Y-data Profile\n",
    "\n",
    "#### Web page Link: https://sdivyaanisetty.github.io/ydata_profiles/ydata_profile_tourism_NovaScotia.html"
   ]
  },
  {
   "cell_type": "code",
   "execution_count": 1,
   "id": "84d3627a-da18-4bc7-b51a-2b0976f0d86f",
   "metadata": {},
   "outputs": [],
   "source": [
    "import pandas as pd\n",
    "import numpy as np\n",
    "import matplotlib.pyplot as plt\n",
    "import seaborn as sns\n",
    "\n",
    "from imblearn.over_sampling import SMOTE\n",
    "\n",
    "from sklearn.model_selection import train_test_split\n",
    "from sklearn.preprocessing import StandardScaler\n",
    "\n",
    "from catboost import CatBoostClassifier  # CatBoostRegressor  # if the model requires regression technique\n",
    "from sklearn.metrics import accuracy_score, precision_score, recall_score, f1_score, confusion_matrix, roc_auc_score, classification_report"
   ]
  },
  {
   "cell_type": "markdown",
   "id": "959a90e2-6a22-4dd1-8242-e6b396d1b980",
   "metadata": {},
   "source": [
    "### Import Data"
   ]
  },
  {
   "cell_type": "code",
   "execution_count": 2,
   "id": "5983719e-3210-4bd3-b262-3556a7054913",
   "metadata": {},
   "outputs": [
    {
     "data": {
      "text/html": [
       "<div>\n",
       "<style scoped>\n",
       "    .dataframe tbody tr th:only-of-type {\n",
       "        vertical-align: middle;\n",
       "    }\n",
       "\n",
       "    .dataframe tbody tr th {\n",
       "        vertical-align: top;\n",
       "    }\n",
       "\n",
       "    .dataframe thead th {\n",
       "        text-align: right;\n",
       "    }\n",
       "</style>\n",
       "<table border=\"1\" class=\"dataframe\">\n",
       "  <thead>\n",
       "    <tr style=\"text-align: right;\">\n",
       "      <th></th>\n",
       "      <th>Mode of entry</th>\n",
       "      <th>Month/Year</th>\n",
       "      <th>Visitor Origin</th>\n",
       "      <th>Country</th>\n",
       "      <th>Number of Visitors (Rounded to nearest hundred)</th>\n",
       "    </tr>\n",
       "  </thead>\n",
       "  <tbody>\n",
       "    <tr>\n",
       "      <th>0</th>\n",
       "      <td>Air</td>\n",
       "      <td>January 2006</td>\n",
       "      <td>Atlantic Canada</td>\n",
       "      <td>Canada</td>\n",
       "      <td>5400.0</td>\n",
       "    </tr>\n",
       "    <tr>\n",
       "      <th>1</th>\n",
       "      <td>Air</td>\n",
       "      <td>January 2006</td>\n",
       "      <td>Quebec</td>\n",
       "      <td>Canada</td>\n",
       "      <td>3400.0</td>\n",
       "    </tr>\n",
       "    <tr>\n",
       "      <th>2</th>\n",
       "      <td>Air</td>\n",
       "      <td>January 2006</td>\n",
       "      <td>Ontario</td>\n",
       "      <td>Canada</td>\n",
       "      <td>16600.0</td>\n",
       "    </tr>\n",
       "    <tr>\n",
       "      <th>3</th>\n",
       "      <td>Air</td>\n",
       "      <td>January 2006</td>\n",
       "      <td>Western Canada</td>\n",
       "      <td>Canada</td>\n",
       "      <td>7000.0</td>\n",
       "    </tr>\n",
       "    <tr>\n",
       "      <th>4</th>\n",
       "      <td>Air</td>\n",
       "      <td>January 2006</td>\n",
       "      <td>New England (inc Maine)</td>\n",
       "      <td>United States</td>\n",
       "      <td>800.0</td>\n",
       "    </tr>\n",
       "  </tbody>\n",
       "</table>\n",
       "</div>"
      ],
      "text/plain": [
       "  Mode of entry    Month/Year           Visitor Origin        Country  \\\n",
       "0           Air  January 2006          Atlantic Canada         Canada   \n",
       "1           Air  January 2006                   Quebec         Canada   \n",
       "2           Air  January 2006                  Ontario         Canada   \n",
       "3           Air  January 2006           Western Canada         Canada   \n",
       "4           Air  January 2006  New England (inc Maine)  United States   \n",
       "\n",
       "   Number of Visitors (Rounded to nearest hundred)  \n",
       "0                                           5400.0  \n",
       "1                                           3400.0  \n",
       "2                                          16600.0  \n",
       "3                                           7000.0  \n",
       "4                                            800.0  "
      ]
     },
     "execution_count": 2,
     "metadata": {},
     "output_type": "execute_result"
    }
   ],
   "source": [
    "df = pd.read_csv('../../data/Tourism_Nova_Scotia_Visitation_20250202_UPDATED.csv')\n",
    "df.head()"
   ]
  },
  {
   "cell_type": "markdown",
   "id": "f2389e6b-12ab-45f0-aff4-fadcfb0e816b",
   "metadata": {},
   "source": [
    "### Data Dictionary\n",
    "\n",
    " - **Mode of entry** - Visitor entered Nova Scotia by what mode [Air, Road].\n",
    " - **Month/Year** - The date of visitor entry.\n",
    " - **Visitor Origin** - Which City or Province are the visitor originally from.\n",
    " - **Country** - Which country are the Visitor originally from.\n",
    " - **Number of Visitors (Rounded to nearest hundred)** - Count of visitors"
   ]
  },
  {
   "cell_type": "markdown",
   "id": "95b4f270-8a73-4516-838d-f3253f36f97d",
   "metadata": {},
   "source": [
    "### Exploratory Data Analysis [EDA]"
   ]
  },
  {
   "cell_type": "code",
   "execution_count": 3,
   "id": "458b7d21-8351-42a0-8811-2bd616e5d701",
   "metadata": {},
   "outputs": [
    {
     "name": "stdout",
     "output_type": "stream",
     "text": [
      "<class 'pandas.core.frame.DataFrame'>\n",
      "RangeIndex: 7182 entries, 0 to 7181\n",
      "Data columns (total 5 columns):\n",
      " #   Column                                           Non-Null Count  Dtype  \n",
      "---  ------                                           --------------  -----  \n",
      " 0   Mode of entry                                    7182 non-null   object \n",
      " 1   Month/Year                                       7182 non-null   object \n",
      " 2   Visitor Origin                                   7182 non-null   object \n",
      " 3   Country                                          7182 non-null   object \n",
      " 4   Number of Visitors (Rounded to nearest hundred)  6282 non-null   float64\n",
      "dtypes: float64(1), object(4)\n",
      "memory usage: 280.7+ KB\n"
     ]
    }
   ],
   "source": [
    "df.info()"
   ]
  },
  {
   "cell_type": "code",
   "execution_count": 4,
   "id": "9f91accc-0310-4797-900a-f2794d816bb6",
   "metadata": {},
   "outputs": [
    {
     "data": {
      "text/plain": [
       "Mode of entry                                        0\n",
       "Month/Year                                           0\n",
       "Visitor Origin                                       0\n",
       "Country                                              0\n",
       "Number of Visitors (Rounded to nearest hundred)    900\n",
       "dtype: int64"
      ]
     },
     "execution_count": 4,
     "metadata": {},
     "output_type": "execute_result"
    }
   ],
   "source": [
    "# Checking for nulls or missing records in the data \n",
    "\n",
    "df.isna().sum()"
   ]
  },
  {
   "cell_type": "markdown",
   "id": "60e546f4-6644-4c56-87a3-20e516bd000c",
   "metadata": {},
   "source": [
    "### Impute or delete any data as required"
   ]
  },
  {
   "cell_type": "code",
   "execution_count": 5,
   "id": "acb19c2f-9ecf-4fa7-bdca-6009bee419f0",
   "metadata": {},
   "outputs": [],
   "source": [
    "# drop the rows will null or missing records \n",
    "\n",
    "df = df.dropna(axis= 0, how= 'any')"
   ]
  },
  {
   "cell_type": "code",
   "execution_count": 6,
   "id": "bcb2fb4a-7b63-4b7f-8281-570431de21d6",
   "metadata": {},
   "outputs": [
    {
     "data": {
      "text/plain": [
       "Mode of entry                                      0\n",
       "Month/Year                                         0\n",
       "Visitor Origin                                     0\n",
       "Country                                            0\n",
       "Number of Visitors (Rounded to nearest hundred)    0\n",
       "dtype: int64"
      ]
     },
     "execution_count": 6,
     "metadata": {},
     "output_type": "execute_result"
    }
   ],
   "source": [
    "# re-check for null or missing records \n",
    "\n",
    "df.isna().sum()"
   ]
  },
  {
   "cell_type": "code",
   "execution_count": 7,
   "id": "7a266372-45a0-4c5c-b0a7-fad032903cdc",
   "metadata": {},
   "outputs": [
    {
     "data": {
      "text/plain": [
       "Index(['Mode of entry', 'Month/Year', 'Visitor Origin', 'Country',\n",
       "       'Number of Visitors (Rounded to nearest hundred)'],\n",
       "      dtype='object')"
      ]
     },
     "execution_count": 7,
     "metadata": {},
     "output_type": "execute_result"
    }
   ],
   "source": [
    "df.columns"
   ]
  },
  {
   "cell_type": "markdown",
   "id": "1035a1c7-d529-420a-a458-eb8171030599",
   "metadata": {},
   "source": [
    "### Convert the data type"
   ]
  },
  {
   "cell_type": "code",
   "execution_count": 8,
   "id": "ad32f6b2-6f17-41f9-8b48-9bf1698e4592",
   "metadata": {
    "scrolled": true
   },
   "outputs": [
    {
     "name": "stdout",
     "output_type": "stream",
     "text": [
      "<class 'pandas.core.frame.DataFrame'>\n",
      "Index: 6282 entries, 0 to 7181\n",
      "Data columns (total 5 columns):\n",
      " #   Column                                           Non-Null Count  Dtype   \n",
      "---  ------                                           --------------  -----   \n",
      " 0   Mode of entry                                    6282 non-null   category\n",
      " 1   Month/Year                                       6282 non-null   category\n",
      " 2   Visitor Origin                                   6282 non-null   category\n",
      " 3   Country                                          6282 non-null   category\n",
      " 4   Number of Visitors (Rounded to nearest hundred)  6282 non-null   float64 \n",
      "dtypes: category(4), float64(1)\n",
      "memory usage: 140.2 KB\n"
     ]
    }
   ],
   "source": [
    "# Converting 'object' type to 'category' type\n",
    "\n",
    "df['Mode of entry'] = df['Mode of entry'].astype('category')\n",
    "df['Month/Year'] = df['Month/Year'].astype('category')\n",
    "df['Visitor Origin'] = df['Visitor Origin'].astype('category')\n",
    "df['Country'] = df['Country'].astype('category')\n",
    "\n",
    "df.info()"
   ]
  },
  {
   "cell_type": "markdown",
   "id": "2df77e97-ef37-412c-a97c-7129a2d50019",
   "metadata": {},
   "source": [
    "## EDA Visualizations"
   ]
  },
  {
   "cell_type": "code",
   "execution_count": 9,
   "id": "172aaa26-6ed5-4b6c-b68b-152740524ca1",
   "metadata": {},
   "outputs": [
    {
     "data": {
      "image/png": "[encoded data removed]",
      "text/plain": [
       "<Figure size 1500x600 with 2 Axes>"
      ]
     },
     "metadata": {},
     "output_type": "display_data"
    }
   ],
   "source": [
    "# Prepare data for the bar chart\n",
    "mode_counts = df['Mode of entry'].value_counts()  # Count of each mode of entry\n",
    "\n",
    "# Prepare data for the line chart\n",
    "country_data = df.groupby('Country', observed= True)['Number of Visitors (Rounded to nearest hundred)'].sum()\n",
    "\n",
    "# Create subplots with 1 row and 2 columns\n",
    "fig, axes = plt.subplots(1, 2, figsize=(15, 6), gridspec_kw={'width_ratios': [1, 2]}) # Bar chart narrower, Line chart wider\n",
    "\n",
    "# Bar Chart: Mode of Entry Counts\n",
    "axes[0].bar(mode_counts.index, mode_counts.values, color='skyblue')\n",
    "axes[0].set_title(\"Visitor Count by Mode of Entry\")\n",
    "axes[0].set_xlabel(\"Mode of Entry\")\n",
    "axes[0].set_ylabel(\"Number of Visitors\")\n",
    "\n",
    "# Line Chart: Trend of Visitors by Country\n",
    "axes[1].plot(country_data.index, country_data.values, marker='o', linestyle='-', color='green')\n",
    "axes[1].set_title(\"Visitor Count by Country\")\n",
    "axes[1].set_ylabel(\"Number of Visitors (Rounded)\")\n",
    "axes[1].tick_params(axis='x', rotation=60)  # Rotate x-axis labels\n",
    "\n",
    "# Adjust layout and display the plots\n",
    "plt.tight_layout()\n",
    "plt.show()"
   ]
  },
  {
   "cell_type": "markdown",
   "id": "b8250b14-66b0-4708-90c7-b2183aa40c53",
   "metadata": {},
   "source": [
    "## Prepare the X and y data\n",
    "\n",
    "- Use one hot encoding for any object or categorical features\n",
    "- Standardize / Normalize any numeric features"
   ]
  },
  {
   "cell_type": "code",
   "execution_count": 10,
   "id": "18c129ea-4a61-4753-b7a7-53c866ebe305",
   "metadata": {},
   "outputs": [],
   "source": [
    "X = df.drop(columns=['Mode of entry'])\n",
    "y = df['Mode of entry']"
   ]
  },
  {
   "cell_type": "code",
   "execution_count": 11,
   "id": "9ab4d21e-9a39-457d-b14e-385be246032f",
   "metadata": {},
   "outputs": [
    {
     "data": {
      "text/html": [
       "<div>\n",
       "<style scoped>\n",
       "    .dataframe tbody tr th:only-of-type {\n",
       "        vertical-align: middle;\n",
       "    }\n",
       "\n",
       "    .dataframe tbody tr th {\n",
       "        vertical-align: top;\n",
       "    }\n",
       "\n",
       "    .dataframe thead th {\n",
       "        text-align: right;\n",
       "    }\n",
       "</style>\n",
       "<table border=\"1\" class=\"dataframe\">\n",
       "  <thead>\n",
       "    <tr style=\"text-align: right;\">\n",
       "      <th></th>\n",
       "      <th>Number of Visitors (Rounded to nearest hundred)</th>\n",
       "      <th>Month/Year_April 2007</th>\n",
       "      <th>Month/Year_April 2008</th>\n",
       "      <th>Month/Year_April 2009</th>\n",
       "      <th>Month/Year_April 2010</th>\n",
       "      <th>Month/Year_April 2011</th>\n",
       "      <th>Month/Year_April 2012</th>\n",
       "      <th>Month/Year_April 2013</th>\n",
       "      <th>Month/Year_April 2014</th>\n",
       "      <th>Month/Year_April 2015</th>\n",
       "      <th>...</th>\n",
       "      <th>Country_New England (inc Maine)</th>\n",
       "      <th>Country_Ontario</th>\n",
       "      <th>Country_Other Europe</th>\n",
       "      <th>Country_Other Overseas</th>\n",
       "      <th>Country_Overseas</th>\n",
       "      <th>Country_Pacific</th>\n",
       "      <th>Country_Quebec</th>\n",
       "      <th>Country_South Atlantic</th>\n",
       "      <th>Country_United States</th>\n",
       "      <th>Country_Western Canada</th>\n",
       "    </tr>\n",
       "  </thead>\n",
       "  <tbody>\n",
       "    <tr>\n",
       "      <th>0</th>\n",
       "      <td>5400.0</td>\n",
       "      <td>False</td>\n",
       "      <td>False</td>\n",
       "      <td>False</td>\n",
       "      <td>False</td>\n",
       "      <td>False</td>\n",
       "      <td>False</td>\n",
       "      <td>False</td>\n",
       "      <td>False</td>\n",
       "      <td>False</td>\n",
       "      <td>...</td>\n",
       "      <td>False</td>\n",
       "      <td>False</td>\n",
       "      <td>False</td>\n",
       "      <td>False</td>\n",
       "      <td>False</td>\n",
       "      <td>False</td>\n",
       "      <td>False</td>\n",
       "      <td>False</td>\n",
       "      <td>False</td>\n",
       "      <td>False</td>\n",
       "    </tr>\n",
       "    <tr>\n",
       "      <th>1</th>\n",
       "      <td>3400.0</td>\n",
       "      <td>False</td>\n",
       "      <td>False</td>\n",
       "      <td>False</td>\n",
       "      <td>False</td>\n",
       "      <td>False</td>\n",
       "      <td>False</td>\n",
       "      <td>False</td>\n",
       "      <td>False</td>\n",
       "      <td>False</td>\n",
       "      <td>...</td>\n",
       "      <td>False</td>\n",
       "      <td>False</td>\n",
       "      <td>False</td>\n",
       "      <td>False</td>\n",
       "      <td>False</td>\n",
       "      <td>False</td>\n",
       "      <td>False</td>\n",
       "      <td>False</td>\n",
       "      <td>False</td>\n",
       "      <td>False</td>\n",
       "    </tr>\n",
       "    <tr>\n",
       "      <th>2</th>\n",
       "      <td>16600.0</td>\n",
       "      <td>False</td>\n",
       "      <td>False</td>\n",
       "      <td>False</td>\n",
       "      <td>False</td>\n",
       "      <td>False</td>\n",
       "      <td>False</td>\n",
       "      <td>False</td>\n",
       "      <td>False</td>\n",
       "      <td>False</td>\n",
       "      <td>...</td>\n",
       "      <td>False</td>\n",
       "      <td>False</td>\n",
       "      <td>False</td>\n",
       "      <td>False</td>\n",
       "      <td>False</td>\n",
       "      <td>False</td>\n",
       "      <td>False</td>\n",
       "      <td>False</td>\n",
       "      <td>False</td>\n",
       "      <td>False</td>\n",
       "    </tr>\n",
       "    <tr>\n",
       "      <th>3</th>\n",
       "      <td>7000.0</td>\n",
       "      <td>False</td>\n",
       "      <td>False</td>\n",
       "      <td>False</td>\n",
       "      <td>False</td>\n",
       "      <td>False</td>\n",
       "      <td>False</td>\n",
       "      <td>False</td>\n",
       "      <td>False</td>\n",
       "      <td>False</td>\n",
       "      <td>...</td>\n",
       "      <td>False</td>\n",
       "      <td>False</td>\n",
       "      <td>False</td>\n",
       "      <td>False</td>\n",
       "      <td>False</td>\n",
       "      <td>False</td>\n",
       "      <td>False</td>\n",
       "      <td>False</td>\n",
       "      <td>False</td>\n",
       "      <td>False</td>\n",
       "    </tr>\n",
       "    <tr>\n",
       "      <th>4</th>\n",
       "      <td>800.0</td>\n",
       "      <td>False</td>\n",
       "      <td>False</td>\n",
       "      <td>False</td>\n",
       "      <td>False</td>\n",
       "      <td>False</td>\n",
       "      <td>False</td>\n",
       "      <td>False</td>\n",
       "      <td>False</td>\n",
       "      <td>False</td>\n",
       "      <td>...</td>\n",
       "      <td>False</td>\n",
       "      <td>False</td>\n",
       "      <td>False</td>\n",
       "      <td>False</td>\n",
       "      <td>False</td>\n",
       "      <td>False</td>\n",
       "      <td>False</td>\n",
       "      <td>False</td>\n",
       "      <td>True</td>\n",
       "      <td>False</td>\n",
       "    </tr>\n",
       "  </tbody>\n",
       "</table>\n",
       "<p>5 rows × 256 columns</p>\n",
       "</div>"
      ],
      "text/plain": [
       "   Number of Visitors (Rounded to nearest hundred)  Month/Year_April 2007  \\\n",
       "0                                           5400.0                  False   \n",
       "1                                           3400.0                  False   \n",
       "2                                          16600.0                  False   \n",
       "3                                           7000.0                  False   \n",
       "4                                            800.0                  False   \n",
       "\n",
       "   Month/Year_April 2008  Month/Year_April 2009  Month/Year_April 2010  \\\n",
       "0                  False                  False                  False   \n",
       "1                  False                  False                  False   \n",
       "2                  False                  False                  False   \n",
       "3                  False                  False                  False   \n",
       "4                  False                  False                  False   \n",
       "\n",
       "   Month/Year_April 2011  Month/Year_April 2012  Month/Year_April 2013  \\\n",
       "0                  False                  False                  False   \n",
       "1                  False                  False                  False   \n",
       "2                  False                  False                  False   \n",
       "3                  False                  False                  False   \n",
       "4                  False                  False                  False   \n",
       "\n",
       "   Month/Year_April 2014  Month/Year_April 2015  ...  \\\n",
       "0                  False                  False  ...   \n",
       "1                  False                  False  ...   \n",
       "2                  False                  False  ...   \n",
       "3                  False                  False  ...   \n",
       "4                  False                  False  ...   \n",
       "\n",
       "   Country_New England (inc Maine)  Country_Ontario  Country_Other Europe  \\\n",
       "0                            False            False                 False   \n",
       "1                            False            False                 False   \n",
       "2                            False            False                 False   \n",
       "3                            False            False                 False   \n",
       "4                            False            False                 False   \n",
       "\n",
       "   Country_Other Overseas  Country_Overseas  Country_Pacific  Country_Quebec  \\\n",
       "0                   False             False            False           False   \n",
       "1                   False             False            False           False   \n",
       "2                   False             False            False           False   \n",
       "3                   False             False            False           False   \n",
       "4                   False             False            False           False   \n",
       "\n",
       "   Country_South Atlantic  Country_United States  Country_Western Canada  \n",
       "0                   False                  False                   False  \n",
       "1                   False                  False                   False  \n",
       "2                   False                  False                   False  \n",
       "3                   False                  False                   False  \n",
       "4                   False                   True                   False  \n",
       "\n",
       "[5 rows x 256 columns]"
      ]
     },
     "execution_count": 11,
     "metadata": {},
     "output_type": "execute_result"
    }
   ],
   "source": [
    "# one-hot encoding \n",
    "X = pd.get_dummies(X, drop_first=True)\n",
    "X.head()"
   ]
  },
  {
   "cell_type": "code",
   "execution_count": 12,
   "id": "b7b697a0-e5dc-4070-9db0-078eb9d4aad4",
   "metadata": {},
   "outputs": [],
   "source": [
    "# Scale the data after spliting for Train / Test data\n",
    "\n",
    "X_train, X_test, y_train, y_test = train_test_split(X, y, test_size=0.3, random_state=None)\n",
    "\n",
    "scaler = StandardScaler()\n",
    "scaler.fit(X_train) \n",
    "\n",
    "X_train = scaler.transform(X_train)\n",
    "X_test = scaler.transform(X_test)"
   ]
  },
  {
   "cell_type": "code",
   "execution_count": 13,
   "id": "3a1f8df9-3573-4ea2-b2de-4f2d586ee862",
   "metadata": {},
   "outputs": [],
   "source": [
    "# Apply SMOTE to resample\n",
    "smote = SMOTE()\n",
    "X_train_res, y_train_res = smote.fit_resample(X_train, y_train)"
   ]
  },
  {
   "cell_type": "code",
   "execution_count": 14,
   "id": "1663ded2-203e-41cb-b5ad-209bce7087a4",
   "metadata": {},
   "outputs": [
    {
     "data": {
      "text/plain": [
       "((4397, 256), 4772)"
      ]
     },
     "execution_count": 14,
     "metadata": {},
     "output_type": "execute_result"
    }
   ],
   "source": [
    "X_train.shape, len(X_train_res)"
   ]
  },
  {
   "cell_type": "code",
   "execution_count": 15,
   "id": "899536b3-060b-4a67-96ea-e4f828113d53",
   "metadata": {},
   "outputs": [
    {
     "data": {
      "text/plain": [
       "Mode of entry\n",
       "Air     2386\n",
       "Road    2011\n",
       "Name: count, dtype: int64"
      ]
     },
     "execution_count": 15,
     "metadata": {},
     "output_type": "execute_result"
    }
   ],
   "source": [
    "y_train.value_counts()"
   ]
  },
  {
   "cell_type": "code",
   "execution_count": 16,
   "id": "9fae82cc-e364-4c1e-b28d-3defb6e31c62",
   "metadata": {},
   "outputs": [
    {
     "data": {
      "text/plain": [
       "Mode of entry\n",
       "Air     2386\n",
       "Road    2386\n",
       "Name: count, dtype: int64"
      ]
     },
     "execution_count": 16,
     "metadata": {},
     "output_type": "execute_result"
    }
   ],
   "source": [
    "y_train_res.value_counts()"
   ]
  },
  {
   "cell_type": "markdown",
   "id": "5294ca6d-6a8f-41e0-92e8-d7889a1c12f0",
   "metadata": {},
   "source": [
    "## Create the Model"
   ]
  },
  {
   "cell_type": "code",
   "execution_count": 17,
   "id": "ba2332d3-68bd-41b8-acc3-e293278aec18",
   "metadata": {},
   "outputs": [],
   "source": [
    "#mdl_selected\n",
    "\n",
    "mdl_selected = 'CatBoost Classifier'"
   ]
  },
  {
   "cell_type": "code",
   "execution_count": 18,
   "id": "fe428f95-f1a0-4d7b-be2e-3345a86542a4",
   "metadata": {},
   "outputs": [
    {
     "data": {
      "text/plain": [
       "<catboost.core.CatBoostClassifier at 0x20f6086e750>"
      ]
     },
     "execution_count": 18,
     "metadata": {},
     "output_type": "execute_result"
    }
   ],
   "source": [
    "mdl = CatBoostClassifier(iterations= 100)\n",
    "mdl"
   ]
  },
  {
   "cell_type": "code",
   "execution_count": 19,
   "id": "89a2acee-4c0c-4438-9eb2-049cd7c66f26",
   "metadata": {},
   "outputs": [
    {
     "name": "stdout",
     "output_type": "stream",
     "text": [
      "Learning rate set to 0.160163\n",
      "0:\tlearn: 0.6234043\ttotal: 87.3ms\tremaining: 8.64s\n",
      "1:\tlearn: 0.5678996\ttotal: 94.5ms\tremaining: 4.63s\n",
      "2:\tlearn: 0.5454158\ttotal: 97.5ms\tremaining: 3.15s\n",
      "3:\tlearn: 0.5272101\ttotal: 100ms\tremaining: 2.41s\n",
      "4:\tlearn: 0.5182974\ttotal: 103ms\tremaining: 1.96s\n",
      "5:\tlearn: 0.5012828\ttotal: 106ms\tremaining: 1.67s\n",
      "6:\tlearn: 0.4952118\ttotal: 109ms\tremaining: 1.45s\n",
      "7:\tlearn: 0.4797366\ttotal: 112ms\tremaining: 1.29s\n",
      "8:\tlearn: 0.4712724\ttotal: 115ms\tremaining: 1.16s\n",
      "9:\tlearn: 0.4598332\ttotal: 118ms\tremaining: 1.06s\n",
      "10:\tlearn: 0.4548808\ttotal: 120ms\tremaining: 971ms\n",
      "11:\tlearn: 0.4512991\ttotal: 123ms\tremaining: 901ms\n",
      "12:\tlearn: 0.4439164\ttotal: 125ms\tremaining: 840ms\n",
      "13:\tlearn: 0.4410984\ttotal: 128ms\tremaining: 788ms\n",
      "14:\tlearn: 0.4384221\ttotal: 131ms\tremaining: 743ms\n",
      "15:\tlearn: 0.4360284\ttotal: 134ms\tremaining: 706ms\n",
      "16:\tlearn: 0.4338238\ttotal: 137ms\tremaining: 671ms\n",
      "17:\tlearn: 0.4296056\ttotal: 140ms\tremaining: 639ms\n",
      "18:\tlearn: 0.4212386\ttotal: 143ms\tremaining: 609ms\n",
      "19:\tlearn: 0.4180614\ttotal: 146ms\tremaining: 582ms\n",
      "20:\tlearn: 0.4162847\ttotal: 148ms\tremaining: 558ms\n",
      "21:\tlearn: 0.4157122\ttotal: 151ms\tremaining: 536ms\n",
      "22:\tlearn: 0.4136000\ttotal: 154ms\tremaining: 515ms\n",
      "23:\tlearn: 0.4126313\ttotal: 157ms\tremaining: 496ms\n",
      "24:\tlearn: 0.4120903\ttotal: 159ms\tremaining: 478ms\n",
      "25:\tlearn: 0.4102039\ttotal: 162ms\tremaining: 461ms\n",
      "26:\tlearn: 0.4081221\ttotal: 165ms\tremaining: 445ms\n",
      "27:\tlearn: 0.4076138\ttotal: 167ms\tremaining: 430ms\n",
      "28:\tlearn: 0.4061249\ttotal: 171ms\tremaining: 418ms\n",
      "29:\tlearn: 0.4042381\ttotal: 175ms\tremaining: 407ms\n",
      "30:\tlearn: 0.4022484\ttotal: 179ms\tremaining: 398ms\n",
      "31:\tlearn: 0.3997194\ttotal: 183ms\tremaining: 388ms\n",
      "32:\tlearn: 0.3973896\ttotal: 186ms\tremaining: 378ms\n",
      "33:\tlearn: 0.3953709\ttotal: 190ms\tremaining: 369ms\n",
      "34:\tlearn: 0.3927912\ttotal: 194ms\tremaining: 359ms\n",
      "35:\tlearn: 0.3914133\ttotal: 197ms\tremaining: 350ms\n",
      "36:\tlearn: 0.3899475\ttotal: 201ms\tremaining: 342ms\n",
      "37:\tlearn: 0.3893171\ttotal: 204ms\tremaining: 333ms\n",
      "38:\tlearn: 0.3874545\ttotal: 206ms\tremaining: 323ms\n",
      "39:\tlearn: 0.3861872\ttotal: 209ms\tremaining: 314ms\n",
      "40:\tlearn: 0.3854792\ttotal: 212ms\tremaining: 305ms\n",
      "41:\tlearn: 0.3848755\ttotal: 214ms\tremaining: 296ms\n",
      "42:\tlearn: 0.3839118\ttotal: 218ms\tremaining: 288ms\n",
      "43:\tlearn: 0.3830349\ttotal: 220ms\tremaining: 281ms\n",
      "44:\tlearn: 0.3821750\ttotal: 223ms\tremaining: 273ms\n",
      "45:\tlearn: 0.3818815\ttotal: 226ms\tremaining: 265ms\n",
      "46:\tlearn: 0.3806522\ttotal: 228ms\tremaining: 258ms\n",
      "47:\tlearn: 0.3797620\ttotal: 231ms\tremaining: 250ms\n",
      "48:\tlearn: 0.3785513\ttotal: 234ms\tremaining: 244ms\n",
      "49:\tlearn: 0.3775292\ttotal: 237ms\tremaining: 237ms\n",
      "50:\tlearn: 0.3766973\ttotal: 240ms\tremaining: 230ms\n",
      "51:\tlearn: 0.3761071\ttotal: 243ms\tremaining: 224ms\n",
      "52:\tlearn: 0.3745920\ttotal: 245ms\tremaining: 217ms\n",
      "53:\tlearn: 0.3737785\ttotal: 248ms\tremaining: 211ms\n",
      "54:\tlearn: 0.3733752\ttotal: 251ms\tremaining: 206ms\n",
      "55:\tlearn: 0.3726047\ttotal: 254ms\tremaining: 200ms\n",
      "56:\tlearn: 0.3717151\ttotal: 257ms\tremaining: 194ms\n",
      "57:\tlearn: 0.3706514\ttotal: 260ms\tremaining: 188ms\n",
      "58:\tlearn: 0.3698881\ttotal: 262ms\tremaining: 182ms\n",
      "59:\tlearn: 0.3689378\ttotal: 266ms\tremaining: 177ms\n",
      "60:\tlearn: 0.3683271\ttotal: 268ms\tremaining: 172ms\n",
      "61:\tlearn: 0.3676654\ttotal: 271ms\tremaining: 166ms\n",
      "62:\tlearn: 0.3670614\ttotal: 274ms\tremaining: 161ms\n",
      "63:\tlearn: 0.3658580\ttotal: 277ms\tremaining: 156ms\n",
      "64:\tlearn: 0.3649590\ttotal: 280ms\tremaining: 151ms\n",
      "65:\tlearn: 0.3635981\ttotal: 283ms\tremaining: 146ms\n",
      "66:\tlearn: 0.3628817\ttotal: 285ms\tremaining: 140ms\n",
      "67:\tlearn: 0.3620057\ttotal: 288ms\tremaining: 136ms\n",
      "68:\tlearn: 0.3610983\ttotal: 291ms\tremaining: 131ms\n",
      "69:\tlearn: 0.3600316\ttotal: 294ms\tremaining: 126ms\n",
      "70:\tlearn: 0.3593097\ttotal: 296ms\tremaining: 121ms\n",
      "71:\tlearn: 0.3586582\ttotal: 300ms\tremaining: 117ms\n",
      "72:\tlearn: 0.3579954\ttotal: 303ms\tremaining: 112ms\n",
      "73:\tlearn: 0.3573854\ttotal: 305ms\tremaining: 107ms\n",
      "74:\tlearn: 0.3562913\ttotal: 308ms\tremaining: 103ms\n",
      "75:\tlearn: 0.3554603\ttotal: 311ms\tremaining: 98.3ms\n",
      "76:\tlearn: 0.3546771\ttotal: 314ms\tremaining: 93.9ms\n",
      "77:\tlearn: 0.3538503\ttotal: 317ms\tremaining: 89.5ms\n",
      "78:\tlearn: 0.3530736\ttotal: 320ms\tremaining: 85ms\n",
      "79:\tlearn: 0.3524671\ttotal: 323ms\tremaining: 80.7ms\n",
      "80:\tlearn: 0.3518417\ttotal: 326ms\tremaining: 76.5ms\n",
      "81:\tlearn: 0.3512988\ttotal: 329ms\tremaining: 72.1ms\n",
      "82:\tlearn: 0.3500959\ttotal: 332ms\tremaining: 68ms\n",
      "83:\tlearn: 0.3495484\ttotal: 334ms\tremaining: 63.7ms\n",
      "84:\tlearn: 0.3490485\ttotal: 337ms\tremaining: 59.5ms\n",
      "85:\tlearn: 0.3483694\ttotal: 340ms\tremaining: 55.4ms\n",
      "86:\tlearn: 0.3475448\ttotal: 343ms\tremaining: 51.2ms\n",
      "87:\tlearn: 0.3468785\ttotal: 346ms\tremaining: 47.2ms\n",
      "88:\tlearn: 0.3461108\ttotal: 350ms\tremaining: 43.2ms\n",
      "89:\tlearn: 0.3453975\ttotal: 353ms\tremaining: 39.2ms\n",
      "90:\tlearn: 0.3447010\ttotal: 355ms\tremaining: 35.2ms\n",
      "91:\tlearn: 0.3440054\ttotal: 358ms\tremaining: 31.2ms\n",
      "92:\tlearn: 0.3432559\ttotal: 362ms\tremaining: 27.2ms\n",
      "93:\tlearn: 0.3426390\ttotal: 365ms\tremaining: 23.3ms\n",
      "94:\tlearn: 0.3419105\ttotal: 369ms\tremaining: 19.4ms\n",
      "95:\tlearn: 0.3410894\ttotal: 371ms\tremaining: 15.5ms\n",
      "96:\tlearn: 0.3404920\ttotal: 374ms\tremaining: 11.6ms\n",
      "97:\tlearn: 0.3399123\ttotal: 377ms\tremaining: 7.69ms\n",
      "98:\tlearn: 0.3395826\ttotal: 380ms\tremaining: 3.84ms\n",
      "99:\tlearn: 0.3389551\ttotal: 383ms\tremaining: 0us\n"
     ]
    },
    {
     "data": {
      "text/plain": [
       "<catboost.core.CatBoostClassifier at 0x20f6086e750>"
      ]
     },
     "execution_count": 19,
     "metadata": {},
     "output_type": "execute_result"
    }
   ],
   "source": [
    "mdl.fit(X_train, y_train)"
   ]
  },
  {
   "cell_type": "markdown",
   "id": "bd1ef632-96da-4fd4-918d-b2eed368278d",
   "metadata": {},
   "source": [
    "## Predict y-hat"
   ]
  },
  {
   "cell_type": "code",
   "execution_count": 20,
   "id": "1b70c1ef-e160-4207-a861-c6e8c2b5ac4e",
   "metadata": {},
   "outputs": [],
   "source": [
    "y_pred = mdl.predict(X_test)"
   ]
  },
  {
   "cell_type": "markdown",
   "id": "977e16aa-6824-4d9c-aa6e-f48e2db69c21",
   "metadata": {},
   "source": [
    "## Probability"
   ]
  },
  {
   "cell_type": "code",
   "execution_count": 21,
   "id": "ae6120cd-4f73-4c09-b81f-de60ecf47e61",
   "metadata": {},
   "outputs": [],
   "source": [
    "# probability scores... \n",
    "# I do this first as it's kinda my \"thing\" - many don't use probability scoring in their pipelines\n",
    "y_proba = mdl.predict_proba(X_test)\n",
    "\n",
    "# bring in just the probability of y_pred\n",
    "res = pd.DataFrame({'y_true':y_test, \n",
    "              'y_pred':y_pred, \n",
    "              'proba': [max(proba) for proba in y_proba]\n",
    "              })\n",
    "res['match'] = np.where(res['y_true'] == res['y_pred'], 1, 0)\n",
    "\n",
    "# report the \"misses\"\n",
    "misses = res[res['match'] == 0]\n",
    "miss_count = len(misses)"
   ]
  },
  {
   "cell_type": "code",
   "execution_count": 22,
   "id": "e239683a-bcbf-47f4-bde9-dd49701057f1",
   "metadata": {},
   "outputs": [
    {
     "name": "stdout",
     "output_type": "stream",
     "text": [
      "There are 358 misses vs 1885 total.\n",
      "% Total Missed: 18.992%\n"
     ]
    }
   ],
   "source": [
    "print(f'There are {miss_count} misses vs {len(y_test)} total.\\n% Total Missed: {miss_count / len(y_test) * 100:.3f}%')"
   ]
  },
  {
   "cell_type": "code",
   "execution_count": 23,
   "id": "3cb990c3-dbea-440d-9e96-12cc5f3a5a42",
   "metadata": {},
   "outputs": [
    {
     "data": {
      "text/html": [
       "<div>\n",
       "<style scoped>\n",
       "    .dataframe tbody tr th:only-of-type {\n",
       "        vertical-align: middle;\n",
       "    }\n",
       "\n",
       "    .dataframe tbody tr th {\n",
       "        vertical-align: top;\n",
       "    }\n",
       "\n",
       "    .dataframe thead th {\n",
       "        text-align: right;\n",
       "    }\n",
       "</style>\n",
       "<table border=\"1\" class=\"dataframe\">\n",
       "  <thead>\n",
       "    <tr style=\"text-align: right;\">\n",
       "      <th></th>\n",
       "      <th>y_true</th>\n",
       "      <th>y_pred</th>\n",
       "      <th>proba</th>\n",
       "      <th>match</th>\n",
       "    </tr>\n",
       "  </thead>\n",
       "  <tbody>\n",
       "    <tr>\n",
       "      <th>5411</th>\n",
       "      <td>Air</td>\n",
       "      <td>Road</td>\n",
       "      <td>0.953697</td>\n",
       "      <td>0</td>\n",
       "    </tr>\n",
       "    <tr>\n",
       "      <th>5632</th>\n",
       "      <td>Road</td>\n",
       "      <td>Air</td>\n",
       "      <td>0.931027</td>\n",
       "      <td>0</td>\n",
       "    </tr>\n",
       "    <tr>\n",
       "      <th>6992</th>\n",
       "      <td>Air</td>\n",
       "      <td>Road</td>\n",
       "      <td>0.906769</td>\n",
       "      <td>0</td>\n",
       "    </tr>\n",
       "    <tr>\n",
       "      <th>220</th>\n",
       "      <td>Road</td>\n",
       "      <td>Air</td>\n",
       "      <td>0.904460</td>\n",
       "      <td>0</td>\n",
       "    </tr>\n",
       "    <tr>\n",
       "      <th>4336</th>\n",
       "      <td>Air</td>\n",
       "      <td>Road</td>\n",
       "      <td>0.894107</td>\n",
       "      <td>0</td>\n",
       "    </tr>\n",
       "  </tbody>\n",
       "</table>\n",
       "</div>"
      ],
      "text/plain": [
       "     y_true y_pred     proba  match\n",
       "5411    Air   Road  0.953697      0\n",
       "5632   Road    Air  0.931027      0\n",
       "6992    Air   Road  0.906769      0\n",
       "220    Road    Air  0.904460      0\n",
       "4336    Air   Road  0.894107      0"
      ]
     },
     "execution_count": 23,
     "metadata": {},
     "output_type": "execute_result"
    }
   ],
   "source": [
    "misses.sort_values('proba', ascending = False).head()"
   ]
  },
  {
   "cell_type": "markdown",
   "id": "d5a24db3-4b61-4315-bf11-148be991a5e3",
   "metadata": {},
   "source": [
    "## Metrics for Classification"
   ]
  },
  {
   "cell_type": "markdown",
   "id": "8db1e55f-c8ad-4cc0-8904-e2d35f31b630",
   "metadata": {},
   "source": [
    "### Accuracy\n",
    "The ratio of correctly predicted instances to the total instances."
   ]
  },
  {
   "cell_type": "code",
   "execution_count": 24,
   "id": "5c35b76e-7182-45f8-a2da-6720a8697777",
   "metadata": {},
   "outputs": [
    {
     "name": "stdout",
     "output_type": "stream",
     "text": [
      "The accuracy of the CatBoost Classifier model: 0.81\n",
      "Unformated Value: 0.810079575596817\n"
     ]
    }
   ],
   "source": [
    "# assigning y_test to variable y_true to help with clarity while learning...\n",
    "y_true = y_test\n",
    "y_pred = mdl.predict(X_test)\n",
    "accuracy = accuracy_score(y_true, y_pred)\n",
    "print(f\"The accuracy of the {mdl_selected} model: {accuracy:.2f}\\nUnformated Value: {accuracy}\")"
   ]
  },
  {
   "cell_type": "markdown",
   "id": "26592dee-9a1f-4ecc-afdf-8606476d6c37",
   "metadata": {},
   "source": [
    "### Precision\n",
    "The ratio of correctly predicted positive observations to the total predicted positives."
   ]
  },
  {
   "cell_type": "code",
   "execution_count": 25,
   "id": "7610f6d9-fe19-48d7-a7d3-456be85f837b",
   "metadata": {},
   "outputs": [
    {
     "name": "stdout",
     "output_type": "stream",
     "text": [
      "The precision of the CatBoost Classifier model: 0.82\n",
      "Unformated Value: 0.8172027010928977\n"
     ]
    }
   ],
   "source": [
    "precision = precision_score(y_true, y_pred, average='weighted')\n",
    "print(f\"The precision of the {mdl_selected} model: {precision:.2f}\\nUnformated Value: {precision}\")"
   ]
  },
  {
   "cell_type": "markdown",
   "id": "7b9d9ad6-dcdf-46e3-9d4f-d1fc069a1795",
   "metadata": {},
   "source": [
    "### Recall (Sensitivity)\n",
    "The ratio of correctly predicted positive observations to all observations in the actual class."
   ]
  },
  {
   "cell_type": "code",
   "execution_count": 26,
   "id": "8e1f5e0e-400d-4756-8cb4-23054f6a31b5",
   "metadata": {},
   "outputs": [
    {
     "name": "stdout",
     "output_type": "stream",
     "text": [
      "The recall of the CatBoost Classifier model: 0.81\n",
      "Unformated Value: 0.810079575596817\n"
     ]
    }
   ],
   "source": [
    "recall = recall_score(y_true, y_pred, average='weighted')  # weighted\n",
    "print(f\"The recall of the {mdl_selected} model: {recall:.2f}\\nUnformated Value: {recall}\")"
   ]
  },
  {
   "cell_type": "markdown",
   "id": "91f38b89-ceeb-49f5-87de-d2527fb05db4",
   "metadata": {},
   "source": [
    "### F1 Score \n",
    "The weighted average of Precision and Recall.\n"
   ]
  },
  {
   "cell_type": "code",
   "execution_count": 27,
   "id": "972fe2bc-fc48-4150-99fa-84c6c64a76e5",
   "metadata": {},
   "outputs": [
    {
     "name": "stdout",
     "output_type": "stream",
     "text": [
      "The f1 of the CatBoost Classifier model: 0.81\n",
      "Unformated Value: 0.810079575596817\n"
     ]
    }
   ],
   "source": [
    "f1 = f1_score(y_true, y_pred, average='weighted') # weighted\n",
    "\n",
    "print(f\"The f1 of the {mdl_selected} model: {f1:.2f}\\nUnformated Value: {recall}\")"
   ]
  },
  {
   "cell_type": "markdown",
   "id": "f372182e-ac4d-465b-b0ef-7598bbf4088c",
   "metadata": {},
   "source": [
    "### Classification Report\n",
    "A comprehensive report showing precision, recall, F1 score, and support for each class."
   ]
  },
  {
   "cell_type": "code",
   "execution_count": 28,
   "id": "5e417fcf-2b77-4b8e-80d7-90d780d558c1",
   "metadata": {},
   "outputs": [
    {
     "name": "stdout",
     "output_type": "stream",
     "text": [
      "              precision    recall  f1-score   support\n",
      "\n",
      "         Air       0.78      0.91      0.84      1027\n",
      "        Road       0.86      0.69      0.77       858\n",
      "\n",
      "    accuracy                           0.81      1885\n",
      "   macro avg       0.82      0.80      0.80      1885\n",
      "weighted avg       0.82      0.81      0.81      1885\n",
      "\n"
     ]
    }
   ],
   "source": [
    "report = classification_report(y_true, y_pred)\n",
    "print(report)"
   ]
  },
  {
   "cell_type": "markdown",
   "id": "f6ab30b6-1e10-4e9f-9d9e-8f3da6a8d64a",
   "metadata": {},
   "source": [
    "## Summary"
   ]
  },
  {
   "cell_type": "markdown",
   "id": "74d3ca03-5dc3-49a7-9364-48a793f680dc",
   "metadata": {},
   "source": [
    "##### The CatBoost Classifier achieved an overall accuracy of 79%. \n",
    "##### Key metrics include a precision of 80%, recall of 79%, and an F1-score of 79%, suggesting a well-performing and balanced model performance.\n",
    "\n",
    "##### Air: 77% Precision shows slightly higher 'False positives', 88% Recall shows most identified correctly. \n",
    "\n",
    "##### Road: 83% Precision shows lower 'False positives', but 69% Recall shows significant instances are missed which needs imporvement."
   ]
  },
  {
   "cell_type": "markdown",
   "id": "d8b33b95-cc54-4bda-9830-d47aad78d32e",
   "metadata": {},
   "source": [
    "### Confusion Matrix\n",
    "A table used to describe the performance of a classification model."
   ]
  },
  {
   "cell_type": "code",
   "execution_count": 29,
   "id": "62414e4b-ffc2-46e1-af6a-397c6f23fedd",
   "metadata": {},
   "outputs": [
    {
     "data": {
      "text/plain": [
       "array([[931,  96],\n",
       "       [262, 596]], dtype=int64)"
      ]
     },
     "execution_count": 29,
     "metadata": {},
     "output_type": "execute_result"
    }
   ],
   "source": [
    "cm = confusion_matrix(y_true, y_pred)\n",
    "cm"
   ]
  },
  {
   "cell_type": "code",
   "execution_count": 30,
   "id": "ba2022d3-8336-4699-a35a-a991e058d691",
   "metadata": {
    "scrolled": true
   },
   "outputs": [
    {
     "data": {
      "image/png": "[encoded data removed]",
      "text/plain": [
       "<Figure size 700x300 with 1 Axes>"
      ]
     },
     "metadata": {},
     "output_type": "display_data"
    }
   ],
   "source": [
    "class_labels = ['No', 'Yes']\n",
    "\n",
    "plt.figure(figsize=(7, 3))\n",
    "sns.heatmap(cm, annot=True, fmt='d', cmap='Blues', xticklabels=class_labels, yticklabels=class_labels, cbar=False)\n",
    "\n",
    "plt.xlabel('Predicted')\n",
    "plt.ylabel('Actual')\n",
    "plt.title('Confusion Matrix Heatmap')\n",
    "plt.show()"
   ]
  }
 ],
 "metadata": {
  "kernelspec": {
   "display_name": "Python 3 (ipykernel)",
   "language": "python",
   "name": "python3"
  },
  "language_info": {
   "codemirror_mode": {
    "name": "ipython",
    "version": 3
   },
   "file_extension": ".py",
   "mimetype": "text/x-python",
   "name": "python",
   "nbconvert_exporter": "python",
   "pygments_lexer": "ipython3",
   "version": "3.11.11"
  }
 },
 "nbformat": 4,
 "nbformat_minor": 5
}
