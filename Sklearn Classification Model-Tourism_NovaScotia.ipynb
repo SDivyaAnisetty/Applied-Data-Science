{
 "cells": [
  {
   "cell_type": "markdown",
   "id": "705dc787-d6ca-4b11-8772-7e628eede9d2",
   "metadata": {},
   "source": [
    "# Scikit-Learn Classification Model - Supervised Learning\n",
    "\n",
    "#### Data: Tourism Nova Scotia\n",
    "#### Time: 2006 to 2024\n",
    "#### Data Source: https://data.novascotia.ca/Business-and-Industry/Tourism-Nova-Scotia-Visitation/n783-4gmh/about_data "
   ]
  },
  {
   "cell_type": "markdown",
   "id": "6a7b522e-d750-48ab-8ba2-1aa79000330e",
   "metadata": {},
   "source": [
    "## Y-data Profile\n",
    "\n",
    "#### Web page Link: https://sdivyaanisetty.github.io/ydata_profiles/ydata_profile_tourism_NovaScotia.html"
   ]
  },
  {
   "cell_type": "code",
   "execution_count": 1,
   "id": "84d3627a-da18-4bc7-b51a-2b0976f0d86f",
   "metadata": {},
   "outputs": [],
   "source": [
    "import pandas as pd\n",
    "import numpy as np\n",
    "import matplotlib.pyplot as plt\n",
    "import seaborn as sns\n",
    "\n",
    "from imblearn.over_sampling import SMOTE\n",
    "\n",
    "from sklearn.model_selection import train_test_split\n",
    "from sklearn.preprocessing import StandardScaler\n",
    "\n",
    "from catboost import CatBoostClassifier, CatBoostRegressor\n",
    "from sklearn.metrics import accuracy_score, precision_score, recall_score, f1_score, confusion_matrix, roc_auc_score, classification_report"
   ]
  },
  {
   "cell_type": "markdown",
   "id": "959a90e2-6a22-4dd1-8242-e6b396d1b980",
   "metadata": {},
   "source": [
    "### Import Data"
   ]
  },
  {
   "cell_type": "code",
   "execution_count": 2,
   "id": "5983719e-3210-4bd3-b262-3556a7054913",
   "metadata": {},
   "outputs": [
    {
     "data": {
      "text/html": [
       "<div>\n",
       "<style scoped>\n",
       "    .dataframe tbody tr th:only-of-type {\n",
       "        vertical-align: middle;\n",
       "    }\n",
       "\n",
       "    .dataframe tbody tr th {\n",
       "        vertical-align: top;\n",
       "    }\n",
       "\n",
       "    .dataframe thead th {\n",
       "        text-align: right;\n",
       "    }\n",
       "</style>\n",
       "<table border=\"1\" class=\"dataframe\">\n",
       "  <thead>\n",
       "    <tr style=\"text-align: right;\">\n",
       "      <th></th>\n",
       "      <th>Mode of entry</th>\n",
       "      <th>Month/Year</th>\n",
       "      <th>Visitor Origin</th>\n",
       "      <th>Country</th>\n",
       "      <th>Number of Visitors (Rounded to nearest hundred)</th>\n",
       "    </tr>\n",
       "  </thead>\n",
       "  <tbody>\n",
       "    <tr>\n",
       "      <th>0</th>\n",
       "      <td>Air</td>\n",
       "      <td>January 2006</td>\n",
       "      <td>Atlantic Canada</td>\n",
       "      <td>Canada</td>\n",
       "      <td>5400.0</td>\n",
       "    </tr>\n",
       "    <tr>\n",
       "      <th>1</th>\n",
       "      <td>Air</td>\n",
       "      <td>January 2006</td>\n",
       "      <td>Quebec</td>\n",
       "      <td>Canada</td>\n",
       "      <td>3400.0</td>\n",
       "    </tr>\n",
       "    <tr>\n",
       "      <th>2</th>\n",
       "      <td>Air</td>\n",
       "      <td>January 2006</td>\n",
       "      <td>Ontario</td>\n",
       "      <td>Canada</td>\n",
       "      <td>16600.0</td>\n",
       "    </tr>\n",
       "    <tr>\n",
       "      <th>3</th>\n",
       "      <td>Air</td>\n",
       "      <td>January 2006</td>\n",
       "      <td>Western Canada</td>\n",
       "      <td>Canada</td>\n",
       "      <td>7000.0</td>\n",
       "    </tr>\n",
       "    <tr>\n",
       "      <th>4</th>\n",
       "      <td>Air</td>\n",
       "      <td>January 2006</td>\n",
       "      <td>New England (inc Maine)</td>\n",
       "      <td>United States</td>\n",
       "      <td>800.0</td>\n",
       "    </tr>\n",
       "  </tbody>\n",
       "</table>\n",
       "</div>"
      ],
      "text/plain": [
       "  Mode of entry    Month/Year           Visitor Origin        Country  \\\n",
       "0           Air  January 2006          Atlantic Canada         Canada   \n",
       "1           Air  January 2006                   Quebec         Canada   \n",
       "2           Air  January 2006                  Ontario         Canada   \n",
       "3           Air  January 2006           Western Canada         Canada   \n",
       "4           Air  January 2006  New England (inc Maine)  United States   \n",
       "\n",
       "   Number of Visitors (Rounded to nearest hundred)  \n",
       "0                                           5400.0  \n",
       "1                                           3400.0  \n",
       "2                                          16600.0  \n",
       "3                                           7000.0  \n",
       "4                                            800.0  "
      ]
     },
     "execution_count": 2,
     "metadata": {},
     "output_type": "execute_result"
    }
   ],
   "source": [
    "df = pd.read_csv('../../data/Tourism_Nova_Scotia_Visitation_20250202_UPDATED.csv')\n",
    "df.head()"
   ]
  },
  {
   "cell_type": "markdown",
   "id": "f2389e6b-12ab-45f0-aff4-fadcfb0e816b",
   "metadata": {},
   "source": [
    "### Data Dictionary\n",
    "\n",
    " - **Mode of entry** - Visitor entered Nova Scotia by what mode [Air, Road].\n",
    " - **Month/Year** - The date of visitor entry.\n",
    " - **Visitor Origin** - Which City or Province are the visitor originally from.\n",
    " - **Country** - Which country are the Visitor originally from.\n",
    " - **Number of Visitors (Rounded to nearest hundred)** - Count of visitors"
   ]
  },
  {
   "cell_type": "markdown",
   "id": "95b4f270-8a73-4516-838d-f3253f36f97d",
   "metadata": {},
   "source": [
    "### Exploratory Data Analysis [EDA]"
   ]
  },
  {
   "cell_type": "code",
   "execution_count": 3,
   "id": "458b7d21-8351-42a0-8811-2bd616e5d701",
   "metadata": {},
   "outputs": [
    {
     "name": "stdout",
     "output_type": "stream",
     "text": [
      "<class 'pandas.core.frame.DataFrame'>\n",
      "RangeIndex: 7182 entries, 0 to 7181\n",
      "Data columns (total 5 columns):\n",
      " #   Column                                           Non-Null Count  Dtype  \n",
      "---  ------                                           --------------  -----  \n",
      " 0   Mode of entry                                    7182 non-null   object \n",
      " 1   Month/Year                                       7182 non-null   object \n",
      " 2   Visitor Origin                                   7182 non-null   object \n",
      " 3   Country                                          7182 non-null   object \n",
      " 4   Number of Visitors (Rounded to nearest hundred)  6282 non-null   float64\n",
      "dtypes: float64(1), object(4)\n",
      "memory usage: 280.7+ KB\n"
     ]
    }
   ],
   "source": [
    "df.info()"
   ]
  },
  {
   "cell_type": "code",
   "execution_count": 4,
   "id": "9f91accc-0310-4797-900a-f2794d816bb6",
   "metadata": {},
   "outputs": [
    {
     "data": {
      "text/plain": [
       "Mode of entry                                        0\n",
       "Month/Year                                           0\n",
       "Visitor Origin                                       0\n",
       "Country                                              0\n",
       "Number of Visitors (Rounded to nearest hundred)    900\n",
       "dtype: int64"
      ]
     },
     "execution_count": 4,
     "metadata": {},
     "output_type": "execute_result"
    }
   ],
   "source": [
    "# Checking for nulls or missing records in the data \n",
    "\n",
    "df.isna().sum()"
   ]
  },
  {
   "cell_type": "markdown",
   "id": "60e546f4-6644-4c56-87a3-20e516bd000c",
   "metadata": {},
   "source": [
    "### Impute or delete any data as required"
   ]
  },
  {
   "cell_type": "code",
   "execution_count": 5,
   "id": "acb19c2f-9ecf-4fa7-bdca-6009bee419f0",
   "metadata": {},
   "outputs": [],
   "source": [
    "# drop the rows will null or missing records \n",
    "\n",
    "df = df.dropna(axis= 0, how= 'any')"
   ]
  },
  {
   "cell_type": "code",
   "execution_count": 6,
   "id": "bcb2fb4a-7b63-4b7f-8281-570431de21d6",
   "metadata": {},
   "outputs": [
    {
     "data": {
      "text/plain": [
       "Mode of entry                                      0\n",
       "Month/Year                                         0\n",
       "Visitor Origin                                     0\n",
       "Country                                            0\n",
       "Number of Visitors (Rounded to nearest hundred)    0\n",
       "dtype: int64"
      ]
     },
     "execution_count": 6,
     "metadata": {},
     "output_type": "execute_result"
    }
   ],
   "source": [
    "# re-check for null or missing records \n",
    "\n",
    "df.isna().sum()"
   ]
  },
  {
   "cell_type": "code",
   "execution_count": 7,
   "id": "7a266372-45a0-4c5c-b0a7-fad032903cdc",
   "metadata": {},
   "outputs": [
    {
     "data": {
      "text/plain": [
       "Index(['Mode of entry', 'Month/Year', 'Visitor Origin', 'Country',\n",
       "       'Number of Visitors (Rounded to nearest hundred)'],\n",
       "      dtype='object')"
      ]
     },
     "execution_count": 7,
     "metadata": {},
     "output_type": "execute_result"
    }
   ],
   "source": [
    "df.columns"
   ]
  },
  {
   "cell_type": "markdown",
   "id": "1035a1c7-d529-420a-a458-eb8171030599",
   "metadata": {},
   "source": [
    "### Convert the data type"
   ]
  },
  {
   "cell_type": "code",
   "execution_count": 8,
   "id": "ad32f6b2-6f17-41f9-8b48-9bf1698e4592",
   "metadata": {
    "scrolled": true
   },
   "outputs": [
    {
     "name": "stdout",
     "output_type": "stream",
     "text": [
      "<class 'pandas.core.frame.DataFrame'>\n",
      "Index: 6282 entries, 0 to 7181\n",
      "Data columns (total 5 columns):\n",
      " #   Column                                           Non-Null Count  Dtype   \n",
      "---  ------                                           --------------  -----   \n",
      " 0   Mode of entry                                    6282 non-null   category\n",
      " 1   Month/Year                                       6282 non-null   category\n",
      " 2   Visitor Origin                                   6282 non-null   category\n",
      " 3   Country                                          6282 non-null   category\n",
      " 4   Number of Visitors (Rounded to nearest hundred)  6282 non-null   float64 \n",
      "dtypes: category(4), float64(1)\n",
      "memory usage: 140.2 KB\n"
     ]
    }
   ],
   "source": [
    "# Converting 'object' type to 'category' type\n",
    "\n",
    "df['Mode of entry'] = df['Mode of entry'].astype('category')\n",
    "df['Month/Year'] = df['Month/Year'].astype('category')\n",
    "df['Visitor Origin'] = df['Visitor Origin'].astype('category')\n",
    "df['Country'] = df['Country'].astype('category')\n",
    "\n",
    "df.info()"
   ]
  },
  {
   "cell_type": "markdown",
   "id": "2df77e97-ef37-412c-a97c-7129a2d50019",
   "metadata": {},
   "source": [
    "## EDA Visualizations"
   ]
  },
  {
   "cell_type": "code",
   "execution_count": 9,
   "id": "172aaa26-6ed5-4b6c-b68b-152740524ca1",
   "metadata": {},
   "outputs": [
    {
     "data": {
      "image/png": "[encoded data removed]",
      "text/plain": [
       "<Figure size 1500x600 with 2 Axes>"
      ]
     },
     "metadata": {},
     "output_type": "display_data"
    }
   ],
   "source": [
    "# Prepare data for the bar chart\n",
    "mode_counts = df['Mode of entry'].value_counts()  # Count of each mode of entry\n",
    "\n",
    "# Prepare data for the line chart\n",
    "country_data = df.groupby('Country', observed= True)['Number of Visitors (Rounded to nearest hundred)'].sum()\n",
    "\n",
    "# Create subplots with 1 row and 2 columns\n",
    "fig, axes = plt.subplots(1, 2, figsize=(15, 6), gridspec_kw={'width_ratios': [1, 2]}) # Bar chart narrower, Line chart wider\n",
    "\n",
    "# Bar Chart: Mode of Entry Counts\n",
    "axes[0].bar(mode_counts.index, mode_counts.values, color='skyblue')\n",
    "axes[0].set_title(\"Visitor Count by Mode of Entry\")\n",
    "axes[0].set_xlabel(\"Mode of Entry\")\n",
    "axes[0].set_ylabel(\"Number of Visitors\")\n",
    "\n",
    "# Line Chart: Trend of Visitors by Country\n",
    "axes[1].plot(country_data.index, country_data.values, marker='o', linestyle='-', color='green')\n",
    "axes[1].set_title(\"Visitor Count by Country\")\n",
    "axes[1].set_ylabel(\"Number of Visitors (Rounded)\")\n",
    "axes[1].tick_params(axis='x', rotation=60)  # Rotate x-axis labels\n",
    "\n",
    "# Adjust layout and display the plots\n",
    "plt.tight_layout()\n",
    "plt.show()"
   ]
  },
  {
   "cell_type": "markdown",
   "id": "b8250b14-66b0-4708-90c7-b2183aa40c53",
   "metadata": {},
   "source": [
    "## Prepare the X and y data\n",
    "\n",
    "- Use one hot encoding for any object or categorical features\n",
    "- Standardize / Normalize any numeric features"
   ]
  },
  {
   "cell_type": "code",
   "execution_count": 10,
   "id": "18c129ea-4a61-4753-b7a7-53c866ebe305",
   "metadata": {},
   "outputs": [],
   "source": [
    "X = df.drop(columns=['Mode of entry'])\n",
    "y = df['Mode of entry']"
   ]
  },
  {
   "cell_type": "code",
   "execution_count": 11,
   "id": "9ab4d21e-9a39-457d-b14e-385be246032f",
   "metadata": {},
   "outputs": [
    {
     "data": {
      "text/html": [
       "<div>\n",
       "<style scoped>\n",
       "    .dataframe tbody tr th:only-of-type {\n",
       "        vertical-align: middle;\n",
       "    }\n",
       "\n",
       "    .dataframe tbody tr th {\n",
       "        vertical-align: top;\n",
       "    }\n",
       "\n",
       "    .dataframe thead th {\n",
       "        text-align: right;\n",
       "    }\n",
       "</style>\n",
       "<table border=\"1\" class=\"dataframe\">\n",
       "  <thead>\n",
       "    <tr style=\"text-align: right;\">\n",
       "      <th></th>\n",
       "      <th>Number of Visitors (Rounded to nearest hundred)</th>\n",
       "      <th>Month/Year_April 2007</th>\n",
       "      <th>Month/Year_April 2008</th>\n",
       "      <th>Month/Year_April 2009</th>\n",
       "      <th>Month/Year_April 2010</th>\n",
       "      <th>Month/Year_April 2011</th>\n",
       "      <th>Month/Year_April 2012</th>\n",
       "      <th>Month/Year_April 2013</th>\n",
       "      <th>Month/Year_April 2014</th>\n",
       "      <th>Month/Year_April 2015</th>\n",
       "      <th>...</th>\n",
       "      <th>Country_New England (inc Maine)</th>\n",
       "      <th>Country_Ontario</th>\n",
       "      <th>Country_Other Europe</th>\n",
       "      <th>Country_Other Overseas</th>\n",
       "      <th>Country_Overseas</th>\n",
       "      <th>Country_Pacific</th>\n",
       "      <th>Country_Quebec</th>\n",
       "      <th>Country_South Atlantic</th>\n",
       "      <th>Country_United States</th>\n",
       "      <th>Country_Western Canada</th>\n",
       "    </tr>\n",
       "  </thead>\n",
       "  <tbody>\n",
       "    <tr>\n",
       "      <th>0</th>\n",
       "      <td>5400.0</td>\n",
       "      <td>False</td>\n",
       "      <td>False</td>\n",
       "      <td>False</td>\n",
       "      <td>False</td>\n",
       "      <td>False</td>\n",
       "      <td>False</td>\n",
       "      <td>False</td>\n",
       "      <td>False</td>\n",
       "      <td>False</td>\n",
       "      <td>...</td>\n",
       "      <td>False</td>\n",
       "      <td>False</td>\n",
       "      <td>False</td>\n",
       "      <td>False</td>\n",
       "      <td>False</td>\n",
       "      <td>False</td>\n",
       "      <td>False</td>\n",
       "      <td>False</td>\n",
       "      <td>False</td>\n",
       "      <td>False</td>\n",
       "    </tr>\n",
       "    <tr>\n",
       "      <th>1</th>\n",
       "      <td>3400.0</td>\n",
       "      <td>False</td>\n",
       "      <td>False</td>\n",
       "      <td>False</td>\n",
       "      <td>False</td>\n",
       "      <td>False</td>\n",
       "      <td>False</td>\n",
       "      <td>False</td>\n",
       "      <td>False</td>\n",
       "      <td>False</td>\n",
       "      <td>...</td>\n",
       "      <td>False</td>\n",
       "      <td>False</td>\n",
       "      <td>False</td>\n",
       "      <td>False</td>\n",
       "      <td>False</td>\n",
       "      <td>False</td>\n",
       "      <td>False</td>\n",
       "      <td>False</td>\n",
       "      <td>False</td>\n",
       "      <td>False</td>\n",
       "    </tr>\n",
       "    <tr>\n",
       "      <th>2</th>\n",
       "      <td>16600.0</td>\n",
       "      <td>False</td>\n",
       "      <td>False</td>\n",
       "      <td>False</td>\n",
       "      <td>False</td>\n",
       "      <td>False</td>\n",
       "      <td>False</td>\n",
       "      <td>False</td>\n",
       "      <td>False</td>\n",
       "      <td>False</td>\n",
       "      <td>...</td>\n",
       "      <td>False</td>\n",
       "      <td>False</td>\n",
       "      <td>False</td>\n",
       "      <td>False</td>\n",
       "      <td>False</td>\n",
       "      <td>False</td>\n",
       "      <td>False</td>\n",
       "      <td>False</td>\n",
       "      <td>False</td>\n",
       "      <td>False</td>\n",
       "    </tr>\n",
       "    <tr>\n",
       "      <th>3</th>\n",
       "      <td>7000.0</td>\n",
       "      <td>False</td>\n",
       "      <td>False</td>\n",
       "      <td>False</td>\n",
       "      <td>False</td>\n",
       "      <td>False</td>\n",
       "      <td>False</td>\n",
       "      <td>False</td>\n",
       "      <td>False</td>\n",
       "      <td>False</td>\n",
       "      <td>...</td>\n",
       "      <td>False</td>\n",
       "      <td>False</td>\n",
       "      <td>False</td>\n",
       "      <td>False</td>\n",
       "      <td>False</td>\n",
       "      <td>False</td>\n",
       "      <td>False</td>\n",
       "      <td>False</td>\n",
       "      <td>False</td>\n",
       "      <td>False</td>\n",
       "    </tr>\n",
       "    <tr>\n",
       "      <th>4</th>\n",
       "      <td>800.0</td>\n",
       "      <td>False</td>\n",
       "      <td>False</td>\n",
       "      <td>False</td>\n",
       "      <td>False</td>\n",
       "      <td>False</td>\n",
       "      <td>False</td>\n",
       "      <td>False</td>\n",
       "      <td>False</td>\n",
       "      <td>False</td>\n",
       "      <td>...</td>\n",
       "      <td>False</td>\n",
       "      <td>False</td>\n",
       "      <td>False</td>\n",
       "      <td>False</td>\n",
       "      <td>False</td>\n",
       "      <td>False</td>\n",
       "      <td>False</td>\n",
       "      <td>False</td>\n",
       "      <td>True</td>\n",
       "      <td>False</td>\n",
       "    </tr>\n",
       "  </tbody>\n",
       "</table>\n",
       "<p>5 rows × 256 columns</p>\n",
       "</div>"
      ],
      "text/plain": [
       "   Number of Visitors (Rounded to nearest hundred)  Month/Year_April 2007  \\\n",
       "0                                           5400.0                  False   \n",
       "1                                           3400.0                  False   \n",
       "2                                          16600.0                  False   \n",
       "3                                           7000.0                  False   \n",
       "4                                            800.0                  False   \n",
       "\n",
       "   Month/Year_April 2008  Month/Year_April 2009  Month/Year_April 2010  \\\n",
       "0                  False                  False                  False   \n",
       "1                  False                  False                  False   \n",
       "2                  False                  False                  False   \n",
       "3                  False                  False                  False   \n",
       "4                  False                  False                  False   \n",
       "\n",
       "   Month/Year_April 2011  Month/Year_April 2012  Month/Year_April 2013  \\\n",
       "0                  False                  False                  False   \n",
       "1                  False                  False                  False   \n",
       "2                  False                  False                  False   \n",
       "3                  False                  False                  False   \n",
       "4                  False                  False                  False   \n",
       "\n",
       "   Month/Year_April 2014  Month/Year_April 2015  ...  \\\n",
       "0                  False                  False  ...   \n",
       "1                  False                  False  ...   \n",
       "2                  False                  False  ...   \n",
       "3                  False                  False  ...   \n",
       "4                  False                  False  ...   \n",
       "\n",
       "   Country_New England (inc Maine)  Country_Ontario  Country_Other Europe  \\\n",
       "0                            False            False                 False   \n",
       "1                            False            False                 False   \n",
       "2                            False            False                 False   \n",
       "3                            False            False                 False   \n",
       "4                            False            False                 False   \n",
       "\n",
       "   Country_Other Overseas  Country_Overseas  Country_Pacific  Country_Quebec  \\\n",
       "0                   False             False            False           False   \n",
       "1                   False             False            False           False   \n",
       "2                   False             False            False           False   \n",
       "3                   False             False            False           False   \n",
       "4                   False             False            False           False   \n",
       "\n",
       "   Country_South Atlantic  Country_United States  Country_Western Canada  \n",
       "0                   False                  False                   False  \n",
       "1                   False                  False                   False  \n",
       "2                   False                  False                   False  \n",
       "3                   False                  False                   False  \n",
       "4                   False                   True                   False  \n",
       "\n",
       "[5 rows x 256 columns]"
      ]
     },
     "execution_count": 11,
     "metadata": {},
     "output_type": "execute_result"
    }
   ],
   "source": [
    "# one-hot encoding \n",
    "X = pd.get_dummies(X, drop_first=True)\n",
    "X.head()"
   ]
  },
  {
   "cell_type": "code",
   "execution_count": 12,
   "id": "b7b697a0-e5dc-4070-9db0-078eb9d4aad4",
   "metadata": {},
   "outputs": [],
   "source": [
    "# Scale the data after spliting for Train / Test data\n",
    "\n",
    "X_train, X_test, y_train, y_test = train_test_split(X, y, test_size=0.3, random_state=None)\n",
    "\n",
    "scaler = StandardScaler()\n",
    "scaler.fit(X_train) \n",
    "\n",
    "X_train = scaler.transform(X_train)\n",
    "X_test = scaler.transform(X_test)"
   ]
  },
  {
   "cell_type": "code",
   "execution_count": 13,
   "id": "3a1f8df9-3573-4ea2-b2de-4f2d586ee862",
   "metadata": {},
   "outputs": [],
   "source": [
    "# Apply SMOTE to resample\n",
    "smote = SMOTE()\n",
    "X_train_res, y_train_res = smote.fit_resample(X_train, y_train)"
   ]
  },
  {
   "cell_type": "code",
   "execution_count": 14,
   "id": "1663ded2-203e-41cb-b5ad-209bce7087a4",
   "metadata": {},
   "outputs": [
    {
     "data": {
      "text/plain": [
       "((4397, 256), 4800)"
      ]
     },
     "execution_count": 14,
     "metadata": {},
     "output_type": "execute_result"
    }
   ],
   "source": [
    "X_train.shape, len(X_train_res)"
   ]
  },
  {
   "cell_type": "code",
   "execution_count": 15,
   "id": "899536b3-060b-4a67-96ea-e4f828113d53",
   "metadata": {},
   "outputs": [
    {
     "data": {
      "text/plain": [
       "Mode of entry\n",
       "Air     2400\n",
       "Road    1997\n",
       "Name: count, dtype: int64"
      ]
     },
     "execution_count": 15,
     "metadata": {},
     "output_type": "execute_result"
    }
   ],
   "source": [
    "y_train.value_counts()"
   ]
  },
  {
   "cell_type": "code",
   "execution_count": 16,
   "id": "9fae82cc-e364-4c1e-b28d-3defb6e31c62",
   "metadata": {},
   "outputs": [
    {
     "data": {
      "text/plain": [
       "Mode of entry\n",
       "Air     2400\n",
       "Road    2400\n",
       "Name: count, dtype: int64"
      ]
     },
     "execution_count": 16,
     "metadata": {},
     "output_type": "execute_result"
    }
   ],
   "source": [
    "y_train_res.value_counts()"
   ]
  },
  {
   "cell_type": "markdown",
   "id": "5294ca6d-6a8f-41e0-92e8-d7889a1c12f0",
   "metadata": {},
   "source": [
    "## Create the Model"
   ]
  },
  {
   "cell_type": "code",
   "execution_count": 17,
   "id": "ba2332d3-68bd-41b8-acc3-e293278aec18",
   "metadata": {},
   "outputs": [],
   "source": [
    "#mdl_selected\n",
    "\n",
    "mdl_selected = 'CatBoost Classifier'"
   ]
  },
  {
   "cell_type": "code",
   "execution_count": 18,
   "id": "fe428f95-f1a0-4d7b-be2e-3345a86542a4",
   "metadata": {},
   "outputs": [
    {
     "data": {
      "text/plain": [
       "<catboost.core.CatBoostClassifier at 0x15a7ecd6f50>"
      ]
     },
     "execution_count": 18,
     "metadata": {},
     "output_type": "execute_result"
    }
   ],
   "source": [
    "mdl = CatBoostClassifier(iterations= 100)\n",
    "mdl"
   ]
  },
  {
   "cell_type": "code",
   "execution_count": 19,
   "id": "89a2acee-4c0c-4438-9eb2-049cd7c66f26",
   "metadata": {},
   "outputs": [
    {
     "name": "stdout",
     "output_type": "stream",
     "text": [
      "Learning rate set to 0.160163\n",
      "0:\tlearn: 0.6216915\ttotal: 186ms\tremaining: 18.4s\n",
      "1:\tlearn: 0.5598687\ttotal: 202ms\tremaining: 9.91s\n",
      "2:\tlearn: 0.5416966\ttotal: 218ms\tremaining: 7.05s\n",
      "3:\tlearn: 0.5249057\ttotal: 234ms\tremaining: 5.62s\n",
      "4:\tlearn: 0.5126019\ttotal: 250ms\tremaining: 4.75s\n",
      "5:\tlearn: 0.4951487\ttotal: 265ms\tremaining: 4.15s\n",
      "6:\tlearn: 0.4904868\ttotal: 280ms\tremaining: 3.72s\n",
      "7:\tlearn: 0.4775166\ttotal: 296ms\tremaining: 3.4s\n",
      "8:\tlearn: 0.4676434\ttotal: 311ms\tremaining: 3.14s\n",
      "9:\tlearn: 0.4552142\ttotal: 324ms\tremaining: 2.92s\n",
      "10:\tlearn: 0.4503975\ttotal: 337ms\tremaining: 2.73s\n",
      "11:\tlearn: 0.4458638\ttotal: 351ms\tremaining: 2.57s\n",
      "12:\tlearn: 0.4365687\ttotal: 365ms\tremaining: 2.44s\n",
      "13:\tlearn: 0.4348254\ttotal: 378ms\tremaining: 2.32s\n",
      "14:\tlearn: 0.4312198\ttotal: 392ms\tremaining: 2.22s\n",
      "15:\tlearn: 0.4268645\ttotal: 406ms\tremaining: 2.13s\n",
      "16:\tlearn: 0.4235928\ttotal: 420ms\tremaining: 2.05s\n",
      "17:\tlearn: 0.4218681\ttotal: 432ms\tremaining: 1.97s\n",
      "18:\tlearn: 0.4179762\ttotal: 446ms\tremaining: 1.9s\n",
      "19:\tlearn: 0.4144894\ttotal: 459ms\tremaining: 1.83s\n",
      "20:\tlearn: 0.4132014\ttotal: 470ms\tremaining: 1.77s\n",
      "21:\tlearn: 0.4122764\ttotal: 482ms\tremaining: 1.71s\n",
      "22:\tlearn: 0.4106099\ttotal: 494ms\tremaining: 1.65s\n",
      "23:\tlearn: 0.4096817\ttotal: 506ms\tremaining: 1.6s\n",
      "24:\tlearn: 0.4066401\ttotal: 518ms\tremaining: 1.55s\n",
      "25:\tlearn: 0.4047935\ttotal: 530ms\tremaining: 1.51s\n",
      "26:\tlearn: 0.4028558\ttotal: 543ms\tremaining: 1.47s\n",
      "27:\tlearn: 0.4006432\ttotal: 555ms\tremaining: 1.43s\n",
      "28:\tlearn: 0.3982222\ttotal: 567ms\tremaining: 1.39s\n",
      "29:\tlearn: 0.3961126\ttotal: 579ms\tremaining: 1.35s\n",
      "30:\tlearn: 0.3955196\ttotal: 591ms\tremaining: 1.32s\n",
      "31:\tlearn: 0.3942306\ttotal: 609ms\tremaining: 1.29s\n",
      "32:\tlearn: 0.3927617\ttotal: 623ms\tremaining: 1.26s\n",
      "33:\tlearn: 0.3909252\ttotal: 637ms\tremaining: 1.24s\n",
      "34:\tlearn: 0.3883381\ttotal: 651ms\tremaining: 1.21s\n",
      "35:\tlearn: 0.3868625\ttotal: 666ms\tremaining: 1.18s\n",
      "36:\tlearn: 0.3862226\ttotal: 679ms\tremaining: 1.16s\n",
      "37:\tlearn: 0.3856914\ttotal: 693ms\tremaining: 1.13s\n",
      "38:\tlearn: 0.3847096\ttotal: 706ms\tremaining: 1.1s\n",
      "39:\tlearn: 0.3842256\ttotal: 719ms\tremaining: 1.08s\n",
      "40:\tlearn: 0.3827419\ttotal: 732ms\tremaining: 1.05s\n",
      "41:\tlearn: 0.3818549\ttotal: 746ms\tremaining: 1.03s\n",
      "42:\tlearn: 0.3793030\ttotal: 759ms\tremaining: 1s\n",
      "43:\tlearn: 0.3780290\ttotal: 773ms\tremaining: 984ms\n",
      "44:\tlearn: 0.3763219\ttotal: 786ms\tremaining: 961ms\n",
      "45:\tlearn: 0.3751687\ttotal: 796ms\tremaining: 934ms\n",
      "46:\tlearn: 0.3741940\ttotal: 804ms\tremaining: 907ms\n",
      "47:\tlearn: 0.3728519\ttotal: 811ms\tremaining: 878ms\n",
      "48:\tlearn: 0.3717176\ttotal: 820ms\tremaining: 853ms\n",
      "49:\tlearn: 0.3701764\ttotal: 832ms\tremaining: 832ms\n",
      "50:\tlearn: 0.3690691\ttotal: 841ms\tremaining: 808ms\n",
      "51:\tlearn: 0.3685096\ttotal: 848ms\tremaining: 783ms\n",
      "52:\tlearn: 0.3668509\ttotal: 855ms\tremaining: 758ms\n",
      "53:\tlearn: 0.3661974\ttotal: 868ms\tremaining: 740ms\n",
      "54:\tlearn: 0.3653312\ttotal: 877ms\tremaining: 718ms\n",
      "55:\tlearn: 0.3640481\ttotal: 886ms\tremaining: 696ms\n",
      "56:\tlearn: 0.3634208\ttotal: 897ms\tremaining: 677ms\n",
      "57:\tlearn: 0.3628594\ttotal: 908ms\tremaining: 657ms\n",
      "58:\tlearn: 0.3623182\ttotal: 917ms\tremaining: 637ms\n",
      "59:\tlearn: 0.3617517\ttotal: 926ms\tremaining: 617ms\n",
      "60:\tlearn: 0.3605327\ttotal: 935ms\tremaining: 598ms\n",
      "61:\tlearn: 0.3596022\ttotal: 944ms\tremaining: 579ms\n",
      "62:\tlearn: 0.3584086\ttotal: 954ms\tremaining: 561ms\n",
      "63:\tlearn: 0.3568870\ttotal: 963ms\tremaining: 542ms\n",
      "64:\tlearn: 0.3562894\ttotal: 974ms\tremaining: 525ms\n",
      "65:\tlearn: 0.3550341\ttotal: 985ms\tremaining: 507ms\n",
      "66:\tlearn: 0.3544270\ttotal: 992ms\tremaining: 489ms\n",
      "67:\tlearn: 0.3537347\ttotal: 998ms\tremaining: 470ms\n",
      "68:\tlearn: 0.3525444\ttotal: 1s\tremaining: 452ms\n",
      "69:\tlearn: 0.3519418\ttotal: 1.01s\tremaining: 434ms\n",
      "70:\tlearn: 0.3512370\ttotal: 1.02s\tremaining: 418ms\n",
      "71:\tlearn: 0.3506206\ttotal: 1.04s\tremaining: 403ms\n",
      "72:\tlearn: 0.3501909\ttotal: 1.05s\tremaining: 387ms\n",
      "73:\tlearn: 0.3493234\ttotal: 1.05s\tremaining: 371ms\n",
      "74:\tlearn: 0.3483513\ttotal: 1.06s\tremaining: 355ms\n",
      "75:\tlearn: 0.3474937\ttotal: 1.07s\tremaining: 339ms\n",
      "76:\tlearn: 0.3467803\ttotal: 1.08s\tremaining: 323ms\n",
      "77:\tlearn: 0.3453865\ttotal: 1.09s\tremaining: 307ms\n",
      "78:\tlearn: 0.3448076\ttotal: 1.1s\tremaining: 293ms\n",
      "79:\tlearn: 0.3436578\ttotal: 1.11s\tremaining: 278ms\n",
      "80:\tlearn: 0.3427648\ttotal: 1.12s\tremaining: 263ms\n",
      "81:\tlearn: 0.3422187\ttotal: 1.13s\tremaining: 248ms\n",
      "82:\tlearn: 0.3414153\ttotal: 1.14s\tremaining: 233ms\n",
      "83:\tlearn: 0.3407909\ttotal: 1.14s\tremaining: 218ms\n",
      "84:\tlearn: 0.3400498\ttotal: 1.15s\tremaining: 203ms\n",
      "85:\tlearn: 0.3392499\ttotal: 1.16s\tremaining: 189ms\n",
      "86:\tlearn: 0.3383505\ttotal: 1.17s\tremaining: 175ms\n",
      "87:\tlearn: 0.3374468\ttotal: 1.18s\tremaining: 161ms\n",
      "88:\tlearn: 0.3366090\ttotal: 1.19s\tremaining: 147ms\n",
      "89:\tlearn: 0.3354786\ttotal: 1.2s\tremaining: 133ms\n",
      "90:\tlearn: 0.3347237\ttotal: 1.21s\tremaining: 120ms\n",
      "91:\tlearn: 0.3340755\ttotal: 1.22s\tremaining: 106ms\n",
      "92:\tlearn: 0.3334111\ttotal: 1.23s\tremaining: 92.7ms\n",
      "93:\tlearn: 0.3328753\ttotal: 1.24s\tremaining: 79.4ms\n",
      "94:\tlearn: 0.3321781\ttotal: 1.25s\tremaining: 66ms\n",
      "95:\tlearn: 0.3315127\ttotal: 1.26s\tremaining: 52.7ms\n",
      "96:\tlearn: 0.3309006\ttotal: 1.27s\tremaining: 39.4ms\n",
      "97:\tlearn: 0.3303464\ttotal: 1.28s\tremaining: 26.2ms\n",
      "98:\tlearn: 0.3297064\ttotal: 1.29s\tremaining: 13.1ms\n",
      "99:\tlearn: 0.3291709\ttotal: 1.3s\tremaining: 0us\n"
     ]
    },
    {
     "data": {
      "text/plain": [
       "<catboost.core.CatBoostClassifier at 0x15a7ecd6f50>"
      ]
     },
     "execution_count": 19,
     "metadata": {},
     "output_type": "execute_result"
    }
   ],
   "source": [
    "mdl.fit(X_train, y_train)"
   ]
  },
  {
   "cell_type": "markdown",
   "id": "bd1ef632-96da-4fd4-918d-b2eed368278d",
   "metadata": {},
   "source": [
    "## Predict y-hat"
   ]
  },
  {
   "cell_type": "code",
   "execution_count": 20,
   "id": "1b70c1ef-e160-4207-a861-c6e8c2b5ac4e",
   "metadata": {},
   "outputs": [],
   "source": [
    "y_pred = mdl.predict(X_test)"
   ]
  },
  {
   "cell_type": "markdown",
   "id": "977e16aa-6824-4d9c-aa6e-f48e2db69c21",
   "metadata": {},
   "source": [
    "## Probability"
   ]
  },
  {
   "cell_type": "code",
   "execution_count": 21,
   "id": "ae6120cd-4f73-4c09-b81f-de60ecf47e61",
   "metadata": {},
   "outputs": [],
   "source": [
    "# probability scores... \n",
    "# I do this first as it's kinda my \"thing\" - many don't use probability scoring in their pipelines\n",
    "y_proba = mdl.predict_proba(X_test)\n",
    "\n",
    "# bring in just the probability of y_pred\n",
    "res = pd.DataFrame({'y_true':y_test, \n",
    "              'y_pred':y_pred, \n",
    "              'proba': [max(proba) for proba in y_proba]\n",
    "              })\n",
    "res['match'] = np.where(res['y_true'] == res['y_pred'], 1, 0)\n",
    "\n",
    "# report the \"misses\"\n",
    "misses = res[res['match'] == 0]\n",
    "miss_count = len(misses)"
   ]
  },
  {
   "cell_type": "code",
   "execution_count": 22,
   "id": "e239683a-bcbf-47f4-bde9-dd49701057f1",
   "metadata": {},
   "outputs": [
    {
     "name": "stdout",
     "output_type": "stream",
     "text": [
      "There are 394 misses vs 1885 total.\n",
      "% Total Missed: 20.902%\n"
     ]
    }
   ],
   "source": [
    "print(f'There are {miss_count} misses vs {len(y_test)} total.\\n% Total Missed: {miss_count / len(y_test) * 100:.3f}%')"
   ]
  },
  {
   "cell_type": "code",
   "execution_count": 23,
   "id": "3cb990c3-dbea-440d-9e96-12cc5f3a5a42",
   "metadata": {},
   "outputs": [
    {
     "data": {
      "text/html": [
       "<div>\n",
       "<style scoped>\n",
       "    .dataframe tbody tr th:only-of-type {\n",
       "        vertical-align: middle;\n",
       "    }\n",
       "\n",
       "    .dataframe tbody tr th {\n",
       "        vertical-align: top;\n",
       "    }\n",
       "\n",
       "    .dataframe thead th {\n",
       "        text-align: right;\n",
       "    }\n",
       "</style>\n",
       "<table border=\"1\" class=\"dataframe\">\n",
       "  <thead>\n",
       "    <tr style=\"text-align: right;\">\n",
       "      <th></th>\n",
       "      <th>y_true</th>\n",
       "      <th>y_pred</th>\n",
       "      <th>proba</th>\n",
       "      <th>match</th>\n",
       "    </tr>\n",
       "  </thead>\n",
       "  <tbody>\n",
       "    <tr>\n",
       "      <th>5684</th>\n",
       "      <td>Air</td>\n",
       "      <td>Road</td>\n",
       "      <td>0.948818</td>\n",
       "      <td>0</td>\n",
       "    </tr>\n",
       "    <tr>\n",
       "      <th>5616</th>\n",
       "      <td>Air</td>\n",
       "      <td>Road</td>\n",
       "      <td>0.944404</td>\n",
       "      <td>0</td>\n",
       "    </tr>\n",
       "    <tr>\n",
       "      <th>5397</th>\n",
       "      <td>Road</td>\n",
       "      <td>Air</td>\n",
       "      <td>0.939518</td>\n",
       "      <td>0</td>\n",
       "    </tr>\n",
       "    <tr>\n",
       "      <th>7156</th>\n",
       "      <td>Road</td>\n",
       "      <td>Air</td>\n",
       "      <td>0.938183</td>\n",
       "      <td>0</td>\n",
       "    </tr>\n",
       "    <tr>\n",
       "      <th>1965</th>\n",
       "      <td>Air</td>\n",
       "      <td>Road</td>\n",
       "      <td>0.934148</td>\n",
       "      <td>0</td>\n",
       "    </tr>\n",
       "  </tbody>\n",
       "</table>\n",
       "</div>"
      ],
      "text/plain": [
       "     y_true y_pred     proba  match\n",
       "5684    Air   Road  0.948818      0\n",
       "5616    Air   Road  0.944404      0\n",
       "5397   Road    Air  0.939518      0\n",
       "7156   Road    Air  0.938183      0\n",
       "1965    Air   Road  0.934148      0"
      ]
     },
     "execution_count": 23,
     "metadata": {},
     "output_type": "execute_result"
    }
   ],
   "source": [
    "misses.sort_values('proba', ascending = False).head()"
   ]
  },
  {
   "cell_type": "markdown",
   "id": "d5a24db3-4b61-4315-bf11-148be991a5e3",
   "metadata": {},
   "source": [
    "## Metrics for Classification"
   ]
  },
  {
   "cell_type": "markdown",
   "id": "8db1e55f-c8ad-4cc0-8904-e2d35f31b630",
   "metadata": {},
   "source": [
    "### Accuracy\n",
    "The ratio of correctly predicted instances to the total instances."
   ]
  },
  {
   "cell_type": "code",
   "execution_count": 24,
   "id": "5c35b76e-7182-45f8-a2da-6720a8697777",
   "metadata": {},
   "outputs": [
    {
     "name": "stdout",
     "output_type": "stream",
     "text": [
      "The accuracy of the CatBoost Classifier model: 0.79\n",
      "Unformated Value: 0.7909814323607427\n"
     ]
    }
   ],
   "source": [
    "# assigning y_test to variable y_true to help with clarity while learning...\n",
    "y_true = y_test\n",
    "y_pred = mdl.predict(X_test)\n",
    "accuracy = accuracy_score(y_true, y_pred)\n",
    "print(f\"The accuracy of the {mdl_selected} model: {accuracy:.2f}\\nUnformated Value: {accuracy}\")"
   ]
  },
  {
   "cell_type": "markdown",
   "id": "26592dee-9a1f-4ecc-afdf-8606476d6c37",
   "metadata": {},
   "source": [
    "### Precision\n",
    "The ratio of correctly predicted positive observations to the total predicted positives."
   ]
  },
  {
   "cell_type": "code",
   "execution_count": 25,
   "id": "7610f6d9-fe19-48d7-a7d3-456be85f837b",
   "metadata": {},
   "outputs": [
    {
     "name": "stdout",
     "output_type": "stream",
     "text": [
      "The precision of the CatBoost Classifier model: 0.80\n",
      "Unformated Value: 0.7965090226405688\n"
     ]
    }
   ],
   "source": [
    "precision = precision_score(y_true, y_pred, average='weighted')\n",
    "print(f\"The precision of the {mdl_selected} model: {precision:.2f}\\nUnformated Value: {precision}\")"
   ]
  },
  {
   "cell_type": "markdown",
   "id": "7b9d9ad6-dcdf-46e3-9d4f-d1fc069a1795",
   "metadata": {},
   "source": [
    "### Recall (Sensitivity)\n",
    "The ratio of correctly predicted positive observations to all observations in the actual class."
   ]
  },
  {
   "cell_type": "code",
   "execution_count": 26,
   "id": "8e1f5e0e-400d-4756-8cb4-23054f6a31b5",
   "metadata": {},
   "outputs": [
    {
     "name": "stdout",
     "output_type": "stream",
     "text": [
      "The recall of the CatBoost Classifier model: 0.79\n",
      "Unformated Value: 0.7909814323607427\n"
     ]
    }
   ],
   "source": [
    "recall = recall_score(y_true, y_pred, average='weighted')  # weighted\n",
    "print(f\"The recall of the {mdl_selected} model: {recall:.2f}\\nUnformated Value: {recall}\")"
   ]
  },
  {
   "cell_type": "markdown",
   "id": "91f38b89-ceeb-49f5-87de-d2527fb05db4",
   "metadata": {},
   "source": [
    "### F1 Score \n",
    "The weighted average of Precision and Recall.\n"
   ]
  },
  {
   "cell_type": "code",
   "execution_count": 27,
   "id": "972fe2bc-fc48-4150-99fa-84c6c64a76e5",
   "metadata": {},
   "outputs": [
    {
     "name": "stdout",
     "output_type": "stream",
     "text": [
      "The f1 of the CatBoost Classifier model: 0.79\n",
      "Unformated Value: 0.7909814323607427\n"
     ]
    }
   ],
   "source": [
    "f1 = f1_score(y_true, y_pred, average='weighted') # weighted\n",
    "\n",
    "print(f\"The f1 of the {mdl_selected} model: {f1:.2f}\\nUnformated Value: {recall}\")"
   ]
  },
  {
   "cell_type": "markdown",
   "id": "f372182e-ac4d-465b-b0ef-7598bbf4088c",
   "metadata": {},
   "source": [
    "### Classification Report\n",
    "A comprehensive report showing precision, recall, F1 score, and support for each class."
   ]
  },
  {
   "cell_type": "code",
   "execution_count": 28,
   "id": "5e417fcf-2b77-4b8e-80d7-90d780d558c1",
   "metadata": {},
   "outputs": [
    {
     "name": "stdout",
     "output_type": "stream",
     "text": [
      "              precision    recall  f1-score   support\n",
      "\n",
      "         Air       0.77      0.88      0.82      1013\n",
      "        Road       0.83      0.69      0.75       872\n",
      "\n",
      "    accuracy                           0.79      1885\n",
      "   macro avg       0.80      0.78      0.79      1885\n",
      "weighted avg       0.80      0.79      0.79      1885\n",
      "\n"
     ]
    }
   ],
   "source": [
    "report = classification_report(y_true, y_pred)\n",
    "print(report)"
   ]
  },
  {
   "cell_type": "markdown",
   "id": "d8b33b95-cc54-4bda-9830-d47aad78d32e",
   "metadata": {},
   "source": [
    "### Confusion Matrix\n",
    "A table used to describe the performance of a classification model."
   ]
  },
  {
   "cell_type": "code",
   "execution_count": 29,
   "id": "62414e4b-ffc2-46e1-af6a-397c6f23fedd",
   "metadata": {},
   "outputs": [
    {
     "data": {
      "text/plain": [
       "array([[893, 120],\n",
       "       [274, 598]], dtype=int64)"
      ]
     },
     "execution_count": 29,
     "metadata": {},
     "output_type": "execute_result"
    }
   ],
   "source": [
    "cm = confusion_matrix(y_true, y_pred)\n",
    "cm"
   ]
  },
  {
   "cell_type": "code",
   "execution_count": 30,
   "id": "ba2022d3-8336-4699-a35a-a991e058d691",
   "metadata": {},
   "outputs": [
    {
     "data": {
      "image/png": "[encoded data removed]",
      "text/plain": [
       "<Figure size 700x300 with 1 Axes>"
      ]
     },
     "metadata": {},
     "output_type": "display_data"
    }
   ],
   "source": [
    "class_labels = ['No', 'Yes']\n",
    "\n",
    "plt.figure(figsize=(7, 3))\n",
    "sns.heatmap(cm, annot=True, fmt='d', cmap='Blues', xticklabels=class_labels, yticklabels=class_labels, cbar=False)\n",
    "\n",
    "plt.xlabel('Predicted')\n",
    "plt.ylabel('Actual')\n",
    "plt.title('Confusion Matrix Heatmap')\n",
    "plt.show()"
   ]
  },
  {
   "cell_type": "code",
   "execution_count": null,
   "id": "7eee0b0a-a626-42ce-a917-d5eca4317ff1",
   "metadata": {},
   "outputs": [],
   "source": []
  },
  {
   "cell_type": "code",
   "execution_count": null,
   "id": "0db18378-c0de-4afb-a8fa-0e5ab2933c26",
   "metadata": {},
   "outputs": [],
   "source": []
  }
 ],
 "metadata": {
  "kernelspec": {
   "display_name": "Python 3 (ipykernel)",
   "language": "python",
   "name": "python3"
  },
  "language_info": {
   "codemirror_mode": {
    "name": "ipython",
    "version": 3
   },
   "file_extension": ".py",
   "mimetype": "text/x-python",
   "name": "python",
   "nbconvert_exporter": "python",
   "pygments_lexer": "ipython3",
   "version": "3.11.11"
  }
 },
 "nbformat": 4,
 "nbformat_minor": 5
}
